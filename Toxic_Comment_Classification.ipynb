{
 "cells": [
  {
   "cell_type": "markdown",
   "metadata": {
    "id": "VYpRL-gMlvSy"
   },
   "source": [
    "## DETECTING TOXICITY ON SOCIAL MEDIA COMMENTS"
   ]
  },
  {
   "cell_type": "markdown",
   "metadata": {
    "id": "OqYbtjhpIxml"
   },
   "source": [
    "## HYPOTHESIS : \n",
    "**TOXICITY ON ONLINE PLATFORMS CAN BE ACCURATELY DETECTED AND CLASSIFIED USING NATURAL LANGUAGE PROCESSING AND DEEP LEARNING TECHNIQUES**"
   ]
  },
  {
   "cell_type": "markdown",
   "metadata": {
    "id": "P3ym9UqxQheh"
   },
   "source": [
    "## INSTRUCTIONS:\n",
    "1. Installing the following libraries : scikit-multilearn, nltk, tensorflow, keras, scikit-learn, pandas, re, string, numpy, matplotlib, wordcloud \n",
    "2. Unzipping and loading the following documents: \n",
    "  - train.csv.zip\n",
    "  - test.csv.zip\n",
    "  - labels.csv.zip\n",
    "  - glove.6B.zip (to be downloaded from : http://nlp.stanford.edu/data/glove.6B.zip )\n",
    "3. Adjusting the path based on the location of these files\n",
    "4. Running all the cells\n",
    "5. Note : The LSTM and RNN models would take a long time to run since the dataset is very large"
   ]
  },
  {
   "cell_type": "markdown",
   "metadata": {
    "id": "fWzoIsMFR808"
   },
   "source": [
    "## METHODOLOGY : \n",
    "This notebook contains the following sections. \n",
    "1. DATA INGESTION\n",
    "2. DATA PREPROCESSING\n",
    "3. EXPLORATORY ANALYSIS AND VISUALIZATION\n",
    "4. VECTORIZATION\n",
    "5. CLASSIFICATION\n",
    "  - BASELINE MODEL - MULTINOMIAL NAIVE BAYES CLASSIFIER\n",
    "  - VANILLA RNN\n",
    "  - LSTM \n",
    "6. EVALUATION\n",
    "7. COMPARISON WITH CURRENT MODELS\n",
    "8. CONCLUSION\n",
    "9. REFERENCES"
   ]
  },
  {
   "cell_type": "code",
   "execution_count": 24,
   "metadata": {
    "colab": {
     "base_uri": "https://localhost:8080/"
    },
    "id": "5raL1-yPJr9p",
    "outputId": "f8eed952-9394-4773-8a71-aef953df7ab7"
   },
   "outputs": [
    {
     "name": "stdout",
     "output_type": "stream",
     "text": [
      "Requirement already satisfied: scikit-multilearn in /usr/local/lib/python3.6/dist-packages (0.2.0)\n"
     ]
    }
   ],
   "source": [
    "#Installing required package\n",
    "!pip install scikit-multilearn"
   ]
  },
  {
   "cell_type": "code",
   "execution_count": 25,
   "metadata": {
    "id": "D6zJRj0NTkAO"
   },
   "outputs": [],
   "source": [
    "# Imports\n",
    "import nltk\n",
    "import pandas as pd\n",
    "import re\n",
    "import string\n",
    "import numpy as np\n",
    "import matplotlib.pyplot as plt\n",
    "from wordcloud import WordCloud, STOPWORDS, ImageColorGenerator\n",
    "\n",
    "import keras\n",
    "import keras.utils\n",
    "from tensorflow.keras import layers\n",
    "from keras.preprocessing.text import one_hot, Tokenizer\n",
    "from keras.preprocessing.sequence import pad_sequences\n",
    "from keras.models import Sequential, load_model\n",
    "from keras.layers import Flatten, Dense, Embedding\n",
    "from keras.callbacks import ModelCheckpoint\n",
    "from sklearn.metrics import accuracy_score\n",
    "from sklearn.svm import SVC\n",
    "from skmultilearn.problem_transform import BinaryRelevance\n",
    "from sklearn.naive_bayes import MultinomialNB\n",
    "from sklearn.metrics import f1_score, precision_score, recall_score"
   ]
  },
  {
   "cell_type": "code",
   "execution_count": 26,
   "metadata": {
    "colab": {
     "base_uri": "https://localhost:8080/"
    },
    "id": "2QLYyc0ra1tO",
    "outputId": "9579e91a-a3c4-41e2-edff-ca38b0aa9a15"
   },
   "outputs": [
    {
     "name": "stdout",
     "output_type": "stream",
     "text": [
      "[nltk_data] Downloading package punkt to /root/nltk_data...\n",
      "[nltk_data]   Package punkt is already up-to-date!\n"
     ]
    },
    {
     "data": {
      "text/plain": [
       "True"
      ]
     },
     "execution_count": 26,
     "metadata": {
      "tags": []
     },
     "output_type": "execute_result"
    }
   ],
   "source": [
    "# Downloading punkt to remove punctuations\n",
    "nltk.download('punkt')"
   ]
  },
  {
   "cell_type": "markdown",
   "metadata": {
    "id": "j67CQIGNMLsU"
   },
   "source": [
    "Unzipping the train and test csv files"
   ]
  },
  {
   "cell_type": "code",
   "execution_count": 4,
   "metadata": {
    "colab": {
     "base_uri": "https://localhost:8080/"
    },
    "id": "izCkyazwVGiU",
    "outputId": "e55879e1-f1c6-489d-a25f-282307f3e8d8"
   },
   "outputs": [
    {
     "name": "stdout",
     "output_type": "stream",
     "text": [
      "Archive:  /content/drive/My Drive/NLP_Project/jigsaw-toxic-comment-classification-challenge/train.csv.zip\n",
      "replace /content/drive/My Drive/NLP_Project/jigsaw-toxic-comment-classification-challenge/train.csv? [y]es, [n]o, [A]ll, [N]one, [r]ename: n\n"
     ]
    }
   ],
   "source": [
    "!unzip \"/content/drive/My Drive/NLP_Project/jigsaw-toxic-comment-classification-challenge/train.csv.zip\" -d \"/content/drive/My Drive/NLP_Project/jigsaw-toxic-comment-classification-challenge/\""
   ]
  },
  {
   "cell_type": "code",
   "execution_count": 37,
   "metadata": {
    "colab": {
     "base_uri": "https://localhost:8080/"
    },
    "id": "pMVhzB79yiAU",
    "outputId": "6cb6814a-dac6-4e70-d0ff-2b654a98c278"
   },
   "outputs": [
    {
     "name": "stdout",
     "output_type": "stream",
     "text": [
      "Archive:  /content/drive/My Drive/NLP_Project/jigsaw-toxic-comment-classification-challenge/test.csv.zip\n",
      "  inflating: /content/drive/My Drive/NLP_Project/jigsaw-toxic-comment-classification-challenge/test.csv  \n"
     ]
    }
   ],
   "source": [
    "!unzip \"/content/drive/My Drive/NLP_Project/jigsaw-toxic-comment-classification-challenge/test.csv.zip\" -d \"/content/drive/My Drive/NLP_Project/jigsaw-toxic-comment-classification-challenge/\""
   ]
  },
  {
   "cell_type": "code",
   "execution_count": 47,
   "metadata": {
    "colab": {
     "base_uri": "https://localhost:8080/"
    },
    "id": "qiYcsQR519Gp",
    "outputId": "5afd2d2f-927b-443d-a834-33df2ca4572f"
   },
   "outputs": [
    {
     "name": "stdout",
     "output_type": "stream",
     "text": [
      "Archive:  /content/drive/My Drive/NLP_Project/jigsaw-toxic-comment-classification-challenge/test_labels.csv.zip\n",
      "  inflating: /content/drive/My Drive/NLP_Project/jigsaw-toxic-comment-classification-challenge/test_labels.csv  \n"
     ]
    }
   ],
   "source": [
    "!unzip \"/content/drive/My Drive/NLP_Project/jigsaw-toxic-comment-classification-challenge/test_labels.csv.zip\" -d \"/content/drive/My Drive/NLP_Project/jigsaw-toxic-comment-classification-challenge/\""
   ]
  },
  {
   "cell_type": "markdown",
   "metadata": {
    "id": "JgSULdqc9xlY"
   },
   "source": [
    "## LOADING THE DATA"
   ]
  },
  {
   "cell_type": "code",
   "execution_count": 27,
   "metadata": {
    "colab": {
     "base_uri": "https://localhost:8080/",
     "height": 415
    },
    "id": "wZzoLk_PVbwQ",
    "outputId": "45d07739-08a7-4030-e56e-bd553a458124"
   },
   "outputs": [
    {
     "data": {
      "text/html": [
       "<div>\n",
       "<style scoped>\n",
       "    .dataframe tbody tr th:only-of-type {\n",
       "        vertical-align: middle;\n",
       "    }\n",
       "\n",
       "    .dataframe tbody tr th {\n",
       "        vertical-align: top;\n",
       "    }\n",
       "\n",
       "    .dataframe thead th {\n",
       "        text-align: right;\n",
       "    }\n",
       "</style>\n",
       "<table border=\"1\" class=\"dataframe\">\n",
       "  <thead>\n",
       "    <tr style=\"text-align: right;\">\n",
       "      <th></th>\n",
       "      <th>comment_text</th>\n",
       "      <th>toxic</th>\n",
       "      <th>severe_toxic</th>\n",
       "      <th>obscene</th>\n",
       "      <th>threat</th>\n",
       "      <th>insult</th>\n",
       "      <th>identity_hate</th>\n",
       "    </tr>\n",
       "  </thead>\n",
       "  <tbody>\n",
       "    <tr>\n",
       "      <th>0</th>\n",
       "      <td>Explanation\\nWhy the edits made under my usern...</td>\n",
       "      <td>0</td>\n",
       "      <td>0</td>\n",
       "      <td>0</td>\n",
       "      <td>0</td>\n",
       "      <td>0</td>\n",
       "      <td>0</td>\n",
       "    </tr>\n",
       "    <tr>\n",
       "      <th>1</th>\n",
       "      <td>D'aww! He matches this background colour I'm s...</td>\n",
       "      <td>0</td>\n",
       "      <td>0</td>\n",
       "      <td>0</td>\n",
       "      <td>0</td>\n",
       "      <td>0</td>\n",
       "      <td>0</td>\n",
       "    </tr>\n",
       "    <tr>\n",
       "      <th>2</th>\n",
       "      <td>Hey man, I'm really not trying to edit war. It...</td>\n",
       "      <td>0</td>\n",
       "      <td>0</td>\n",
       "      <td>0</td>\n",
       "      <td>0</td>\n",
       "      <td>0</td>\n",
       "      <td>0</td>\n",
       "    </tr>\n",
       "    <tr>\n",
       "      <th>3</th>\n",
       "      <td>\"\\nMore\\nI can't make any real suggestions on ...</td>\n",
       "      <td>0</td>\n",
       "      <td>0</td>\n",
       "      <td>0</td>\n",
       "      <td>0</td>\n",
       "      <td>0</td>\n",
       "      <td>0</td>\n",
       "    </tr>\n",
       "    <tr>\n",
       "      <th>4</th>\n",
       "      <td>You, sir, are my hero. Any chance you remember...</td>\n",
       "      <td>0</td>\n",
       "      <td>0</td>\n",
       "      <td>0</td>\n",
       "      <td>0</td>\n",
       "      <td>0</td>\n",
       "      <td>0</td>\n",
       "    </tr>\n",
       "    <tr>\n",
       "      <th>...</th>\n",
       "      <td>...</td>\n",
       "      <td>...</td>\n",
       "      <td>...</td>\n",
       "      <td>...</td>\n",
       "      <td>...</td>\n",
       "      <td>...</td>\n",
       "      <td>...</td>\n",
       "    </tr>\n",
       "    <tr>\n",
       "      <th>159566</th>\n",
       "      <td>\":::::And for the second time of asking, when ...</td>\n",
       "      <td>0</td>\n",
       "      <td>0</td>\n",
       "      <td>0</td>\n",
       "      <td>0</td>\n",
       "      <td>0</td>\n",
       "      <td>0</td>\n",
       "    </tr>\n",
       "    <tr>\n",
       "      <th>159567</th>\n",
       "      <td>You should be ashamed of yourself \\n\\nThat is ...</td>\n",
       "      <td>0</td>\n",
       "      <td>0</td>\n",
       "      <td>0</td>\n",
       "      <td>0</td>\n",
       "      <td>0</td>\n",
       "      <td>0</td>\n",
       "    </tr>\n",
       "    <tr>\n",
       "      <th>159568</th>\n",
       "      <td>Spitzer \\n\\nUmm, theres no actual article for ...</td>\n",
       "      <td>0</td>\n",
       "      <td>0</td>\n",
       "      <td>0</td>\n",
       "      <td>0</td>\n",
       "      <td>0</td>\n",
       "      <td>0</td>\n",
       "    </tr>\n",
       "    <tr>\n",
       "      <th>159569</th>\n",
       "      <td>And it looks like it was actually you who put ...</td>\n",
       "      <td>0</td>\n",
       "      <td>0</td>\n",
       "      <td>0</td>\n",
       "      <td>0</td>\n",
       "      <td>0</td>\n",
       "      <td>0</td>\n",
       "    </tr>\n",
       "    <tr>\n",
       "      <th>159570</th>\n",
       "      <td>\"\\nAnd ... I really don't think you understand...</td>\n",
       "      <td>0</td>\n",
       "      <td>0</td>\n",
       "      <td>0</td>\n",
       "      <td>0</td>\n",
       "      <td>0</td>\n",
       "      <td>0</td>\n",
       "    </tr>\n",
       "  </tbody>\n",
       "</table>\n",
       "<p>159571 rows × 7 columns</p>\n",
       "</div>"
      ],
      "text/plain": [
       "                                             comment_text  ...  identity_hate\n",
       "0       Explanation\\nWhy the edits made under my usern...  ...              0\n",
       "1       D'aww! He matches this background colour I'm s...  ...              0\n",
       "2       Hey man, I'm really not trying to edit war. It...  ...              0\n",
       "3       \"\\nMore\\nI can't make any real suggestions on ...  ...              0\n",
       "4       You, sir, are my hero. Any chance you remember...  ...              0\n",
       "...                                                   ...  ...            ...\n",
       "159566  \":::::And for the second time of asking, when ...  ...              0\n",
       "159567  You should be ashamed of yourself \\n\\nThat is ...  ...              0\n",
       "159568  Spitzer \\n\\nUmm, theres no actual article for ...  ...              0\n",
       "159569  And it looks like it was actually you who put ...  ...              0\n",
       "159570  \"\\nAnd ... I really don't think you understand...  ...              0\n",
       "\n",
       "[159571 rows x 7 columns]"
      ]
     },
     "execution_count": 27,
     "metadata": {
      "tags": []
     },
     "output_type": "execute_result"
    }
   ],
   "source": [
    "# Reading the training data\n",
    "data = pd.read_csv(r\"/content/drive/My Drive/NLP_Project/jigsaw-toxic-comment-classification-challenge/train.csv\")\n",
    "data = data.drop('id', axis=1)\n",
    "data"
   ]
  },
  {
   "cell_type": "code",
   "execution_count": 5,
   "metadata": {
    "colab": {
     "base_uri": "https://localhost:8080/",
     "height": 70
    },
    "id": "JDg7d8TJ-a6W",
    "outputId": "d0406b32-1c7e-47e6-8f99-9e85c2c478bc"
   },
   "outputs": [
    {
     "data": {
      "application/vnd.google.colaboratory.intrinsic+json": {
       "type": "string"
      },
      "text/plain": [
       "'\":::::And for the second time of asking, when your view completely contradicts the coverage in reliable sources, why should anyone care what you feel? You can\\'t even give a consistent argument - is the opening only supposed to mention significant aspects, or the \"\"most significant\"\" ones?   \\n\\n\"'"
      ]
     },
     "execution_count": 5,
     "metadata": {
      "tags": []
     },
     "output_type": "execute_result"
    }
   ],
   "source": [
    "# Original comment (before cleaning)\n",
    "data.comment_text[159566]"
   ]
  },
  {
   "cell_type": "markdown",
   "metadata": {
    "id": "hbHsMRXSSq29"
   },
   "source": [
    "## DATA PREPROCESSING"
   ]
  },
  {
   "cell_type": "code",
   "execution_count": 6,
   "metadata": {
    "colab": {
     "base_uri": "https://localhost:8080/"
    },
    "id": "IA9EDy5RMmrR",
    "outputId": "852d21ab-ad13-4429-b3a2-51aea6775a3d"
   },
   "outputs": [
    {
     "data": {
      "text/plain": [
       "comment_text     0\n",
       "toxic            0\n",
       "severe_toxic     0\n",
       "obscene          0\n",
       "threat           0\n",
       "insult           0\n",
       "identity_hate    0\n",
       "dtype: int64"
      ]
     },
     "execution_count": 6,
     "metadata": {
      "tags": []
     },
     "output_type": "execute_result"
    }
   ],
   "source": [
    "# Checking for NaN values\n",
    "data.isnull().sum()"
   ]
  },
  {
   "cell_type": "code",
   "execution_count": 28,
   "metadata": {
    "id": "gUIpDzvBYwUM"
   },
   "outputs": [],
   "source": [
    "''' Function to clean the comments\n",
    "Input : comments\n",
    "Processing : Removing punctuation marks, lemmatizing, removing urls and other unnecessary characters and adding the cleaned comments to the dataframe\n",
    "Output : Dataframe with cleaned comment_text column ''' # [10]\n",
    "\n",
    "def data_cleaning(text, lemmatizer=nltk.stem.wordnet.WordNetLemmatizer()):\n",
    "    lower_text = text.lower()\n",
    "    reg=re.sub(r\"(\\w+)'s\", r'\\1', lower_text)\n",
    "    reg=reg.replace(\"'\", \"\")\n",
    "    reg=reg.replace(\"-\",\" \")\n",
    "    reg = reg.replace('\\n',\" \")\n",
    "    reg = reg.replace(':',\" \")\n",
    "    reg1=re.sub(r'http[s]?://(?:[a-zA-Z]|[0-9]|[$-_@.&+]|[!*\\(\\),]|(?:%[0-9a-fA-F][0-9a-fA-F]))+', '', reg) #removing url\n",
    "    punc=str.maketrans(string.punctuation,32*\" \")\n",
    "    pt=reg1.translate(punc)\n",
    "    return pt\n",
    "\n",
    "# Applying the data_cleaning function on an entire dataframe column\n",
    "def process_all(df, lemmatizer=nltk.stem.wordnet.WordNetLemmatizer()):\n",
    "    p=[]\n",
    "    for val in df['comment_text']:\n",
    "        p.append(data_cleaning(val,lemmatizer))\n",
    "    df['comment_text']=p\n",
    "    return df"
   ]
  },
  {
   "cell_type": "code",
   "execution_count": 29,
   "metadata": {
    "colab": {
     "base_uri": "https://localhost:8080/",
     "height": 415
    },
    "id": "t_god5ShZnCE",
    "outputId": "1a3f89ff-beeb-49fe-c069-fbbc88480636"
   },
   "outputs": [
    {
     "data": {
      "text/html": [
       "<div>\n",
       "<style scoped>\n",
       "    .dataframe tbody tr th:only-of-type {\n",
       "        vertical-align: middle;\n",
       "    }\n",
       "\n",
       "    .dataframe tbody tr th {\n",
       "        vertical-align: top;\n",
       "    }\n",
       "\n",
       "    .dataframe thead th {\n",
       "        text-align: right;\n",
       "    }\n",
       "</style>\n",
       "<table border=\"1\" class=\"dataframe\">\n",
       "  <thead>\n",
       "    <tr style=\"text-align: right;\">\n",
       "      <th></th>\n",
       "      <th>comment_text</th>\n",
       "      <th>toxic</th>\n",
       "      <th>severe_toxic</th>\n",
       "      <th>obscene</th>\n",
       "      <th>threat</th>\n",
       "      <th>insult</th>\n",
       "      <th>identity_hate</th>\n",
       "    </tr>\n",
       "  </thead>\n",
       "  <tbody>\n",
       "    <tr>\n",
       "      <th>0</th>\n",
       "      <td>explanation why the edits made under my userna...</td>\n",
       "      <td>0</td>\n",
       "      <td>0</td>\n",
       "      <td>0</td>\n",
       "      <td>0</td>\n",
       "      <td>0</td>\n",
       "      <td>0</td>\n",
       "    </tr>\n",
       "    <tr>\n",
       "      <th>1</th>\n",
       "      <td>daww  he matches this background colour im see...</td>\n",
       "      <td>0</td>\n",
       "      <td>0</td>\n",
       "      <td>0</td>\n",
       "      <td>0</td>\n",
       "      <td>0</td>\n",
       "      <td>0</td>\n",
       "    </tr>\n",
       "    <tr>\n",
       "      <th>2</th>\n",
       "      <td>hey man  im really not trying to edit war  it ...</td>\n",
       "      <td>0</td>\n",
       "      <td>0</td>\n",
       "      <td>0</td>\n",
       "      <td>0</td>\n",
       "      <td>0</td>\n",
       "      <td>0</td>\n",
       "    </tr>\n",
       "    <tr>\n",
       "      <th>3</th>\n",
       "      <td>more i cant make any real suggestions on imp...</td>\n",
       "      <td>0</td>\n",
       "      <td>0</td>\n",
       "      <td>0</td>\n",
       "      <td>0</td>\n",
       "      <td>0</td>\n",
       "      <td>0</td>\n",
       "    </tr>\n",
       "    <tr>\n",
       "      <th>4</th>\n",
       "      <td>you  sir  are my hero  any chance you remember...</td>\n",
       "      <td>0</td>\n",
       "      <td>0</td>\n",
       "      <td>0</td>\n",
       "      <td>0</td>\n",
       "      <td>0</td>\n",
       "      <td>0</td>\n",
       "    </tr>\n",
       "    <tr>\n",
       "      <th>...</th>\n",
       "      <td>...</td>\n",
       "      <td>...</td>\n",
       "      <td>...</td>\n",
       "      <td>...</td>\n",
       "      <td>...</td>\n",
       "      <td>...</td>\n",
       "      <td>...</td>\n",
       "    </tr>\n",
       "    <tr>\n",
       "      <th>159566</th>\n",
       "      <td>and for the second time of asking  when ...</td>\n",
       "      <td>0</td>\n",
       "      <td>0</td>\n",
       "      <td>0</td>\n",
       "      <td>0</td>\n",
       "      <td>0</td>\n",
       "      <td>0</td>\n",
       "    </tr>\n",
       "    <tr>\n",
       "      <th>159567</th>\n",
       "      <td>you should be ashamed of yourself   that is a ...</td>\n",
       "      <td>0</td>\n",
       "      <td>0</td>\n",
       "      <td>0</td>\n",
       "      <td>0</td>\n",
       "      <td>0</td>\n",
       "      <td>0</td>\n",
       "    </tr>\n",
       "    <tr>\n",
       "      <th>159568</th>\n",
       "      <td>spitzer   umm  theres no actual article for pr...</td>\n",
       "      <td>0</td>\n",
       "      <td>0</td>\n",
       "      <td>0</td>\n",
       "      <td>0</td>\n",
       "      <td>0</td>\n",
       "      <td>0</td>\n",
       "    </tr>\n",
       "    <tr>\n",
       "      <th>159569</th>\n",
       "      <td>and it looks like it was actually you who put ...</td>\n",
       "      <td>0</td>\n",
       "      <td>0</td>\n",
       "      <td>0</td>\n",
       "      <td>0</td>\n",
       "      <td>0</td>\n",
       "      <td>0</td>\n",
       "    </tr>\n",
       "    <tr>\n",
       "      <th>159570</th>\n",
       "      <td>and     i really dont think you understand  ...</td>\n",
       "      <td>0</td>\n",
       "      <td>0</td>\n",
       "      <td>0</td>\n",
       "      <td>0</td>\n",
       "      <td>0</td>\n",
       "      <td>0</td>\n",
       "    </tr>\n",
       "  </tbody>\n",
       "</table>\n",
       "<p>159571 rows × 7 columns</p>\n",
       "</div>"
      ],
      "text/plain": [
       "                                             comment_text  ...  identity_hate\n",
       "0       explanation why the edits made under my userna...  ...              0\n",
       "1       daww  he matches this background colour im see...  ...              0\n",
       "2       hey man  im really not trying to edit war  it ...  ...              0\n",
       "3         more i cant make any real suggestions on imp...  ...              0\n",
       "4       you  sir  are my hero  any chance you remember...  ...              0\n",
       "...                                                   ...  ...            ...\n",
       "159566        and for the second time of asking  when ...  ...              0\n",
       "159567  you should be ashamed of yourself   that is a ...  ...              0\n",
       "159568  spitzer   umm  theres no actual article for pr...  ...              0\n",
       "159569  and it looks like it was actually you who put ...  ...              0\n",
       "159570    and     i really dont think you understand  ...  ...              0\n",
       "\n",
       "[159571 rows x 7 columns]"
      ]
     },
     "execution_count": 29,
     "metadata": {
      "tags": []
     },
     "output_type": "execute_result"
    }
   ],
   "source": [
    "# Cleaned training dataframe\n",
    "data_processed = process_all(data)\n",
    "data_processed"
   ]
  },
  {
   "cell_type": "code",
   "execution_count": 32,
   "metadata": {
    "colab": {
     "base_uri": "https://localhost:8080/",
     "height": 53
    },
    "id": "uV3pkB4x-wzC",
    "outputId": "5295766d-2887-42b6-b666-b145d039ae97"
   },
   "outputs": [
    {
     "data": {
      "application/vnd.google.colaboratory.intrinsic+json": {
       "type": "string"
      },
      "text/plain": [
       "'      and for the second time of asking  when your view completely contradicts the coverage in reliable sources  why should anyone care what you feel  you cant even give a consistent argument   is the opening only supposed to mention significant aspects  or the   most significant   ones       '"
      ]
     },
     "execution_count": 32,
     "metadata": {
      "tags": []
     },
     "output_type": "execute_result"
    }
   ],
   "source": [
    "# Cleaned comment\n",
    "# As you can see all the puctuation marks, \"\\\", \":\", \"\\n\" etc have been removed\n",
    "data_processed.comment_text[159566]"
   ]
  },
  {
   "cell_type": "markdown",
   "metadata": {
    "id": "YB0Z15xUeyH0"
   },
   "source": [
    "## EXPLORATORY ANALYSIS AND VISUALIZATIONS"
   ]
  },
  {
   "cell_type": "code",
   "execution_count": 17,
   "metadata": {
    "colab": {
     "base_uri": "https://localhost:8080/",
     "height": 233
    },
    "id": "4T1V_47dpUsN",
    "outputId": "d7d0c78b-bded-4941-e407-7f38bb7c6a09"
   },
   "outputs": [
    {
     "data": {
      "text/html": [
       "<div>\n",
       "<style scoped>\n",
       "    .dataframe tbody tr th:only-of-type {\n",
       "        vertical-align: middle;\n",
       "    }\n",
       "\n",
       "    .dataframe tbody tr th {\n",
       "        vertical-align: top;\n",
       "    }\n",
       "\n",
       "    .dataframe thead th {\n",
       "        text-align: right;\n",
       "    }\n",
       "</style>\n",
       "<table border=\"1\" class=\"dataframe\">\n",
       "  <thead>\n",
       "    <tr style=\"text-align: right;\">\n",
       "      <th></th>\n",
       "      <th>toxic</th>\n",
       "      <th>severe_toxic</th>\n",
       "      <th>obscene</th>\n",
       "      <th>threat</th>\n",
       "      <th>insult</th>\n",
       "      <th>identity_hate</th>\n",
       "    </tr>\n",
       "  </thead>\n",
       "  <tbody>\n",
       "    <tr>\n",
       "      <th>toxic</th>\n",
       "      <td>1.000000</td>\n",
       "      <td>0.308619</td>\n",
       "      <td>0.676515</td>\n",
       "      <td>0.157058</td>\n",
       "      <td>0.647518</td>\n",
       "      <td>0.266009</td>\n",
       "    </tr>\n",
       "    <tr>\n",
       "      <th>severe_toxic</th>\n",
       "      <td>0.308619</td>\n",
       "      <td>1.000000</td>\n",
       "      <td>0.403014</td>\n",
       "      <td>0.123601</td>\n",
       "      <td>0.375807</td>\n",
       "      <td>0.201600</td>\n",
       "    </tr>\n",
       "    <tr>\n",
       "      <th>obscene</th>\n",
       "      <td>0.676515</td>\n",
       "      <td>0.403014</td>\n",
       "      <td>1.000000</td>\n",
       "      <td>0.141179</td>\n",
       "      <td>0.741272</td>\n",
       "      <td>0.286867</td>\n",
       "    </tr>\n",
       "    <tr>\n",
       "      <th>threat</th>\n",
       "      <td>0.157058</td>\n",
       "      <td>0.123601</td>\n",
       "      <td>0.141179</td>\n",
       "      <td>1.000000</td>\n",
       "      <td>0.150022</td>\n",
       "      <td>0.115128</td>\n",
       "    </tr>\n",
       "    <tr>\n",
       "      <th>insult</th>\n",
       "      <td>0.647518</td>\n",
       "      <td>0.375807</td>\n",
       "      <td>0.741272</td>\n",
       "      <td>0.150022</td>\n",
       "      <td>1.000000</td>\n",
       "      <td>0.337736</td>\n",
       "    </tr>\n",
       "    <tr>\n",
       "      <th>identity_hate</th>\n",
       "      <td>0.266009</td>\n",
       "      <td>0.201600</td>\n",
       "      <td>0.286867</td>\n",
       "      <td>0.115128</td>\n",
       "      <td>0.337736</td>\n",
       "      <td>1.000000</td>\n",
       "    </tr>\n",
       "  </tbody>\n",
       "</table>\n",
       "</div>"
      ],
      "text/plain": [
       "                  toxic  severe_toxic  ...    insult  identity_hate\n",
       "toxic          1.000000      0.308619  ...  0.647518       0.266009\n",
       "severe_toxic   0.308619      1.000000  ...  0.375807       0.201600\n",
       "obscene        0.676515      0.403014  ...  0.741272       0.286867\n",
       "threat         0.157058      0.123601  ...  0.150022       0.115128\n",
       "insult         0.647518      0.375807  ...  1.000000       0.337736\n",
       "identity_hate  0.266009      0.201600  ...  0.337736       1.000000\n",
       "\n",
       "[6 rows x 6 columns]"
      ]
     },
     "execution_count": 17,
     "metadata": {
      "tags": []
     },
     "output_type": "execute_result"
    }
   ],
   "source": [
    "# Correlation between each labels\n",
    "correlation = data_processed.corr()\n",
    "correlation\n",
    "\n",
    "# The highest correlation exists between 'obscene' and 'toxic' columns"
   ]
  },
  {
   "cell_type": "code",
   "execution_count": 30,
   "metadata": {
    "id": "9NQ84U_SdwpT"
   },
   "outputs": [],
   "source": [
    "# Train - validation split\n",
    "x = data_processed['comment_text']\n",
    "x_train = x[:119679]\n",
    "x_val = x[119679:]\n",
    "y = data_processed[['toxic', 'severe_toxic', 'obscene', 'threat', 'insult', 'identity_hate']]\n",
    "y_train = y[:119679]\n",
    "y_val = y[119679:]"
   ]
  },
  {
   "cell_type": "code",
   "execution_count": 31,
   "metadata": {
    "colab": {
     "base_uri": "https://localhost:8080/",
     "height": 415
    },
    "id": "uZoIsXAw9LWV",
    "outputId": "949d35be-82fb-495b-a33f-0f8c5c2a372c"
   },
   "outputs": [
    {
     "data": {
      "text/html": [
       "<div>\n",
       "<style scoped>\n",
       "    .dataframe tbody tr th:only-of-type {\n",
       "        vertical-align: middle;\n",
       "    }\n",
       "\n",
       "    .dataframe tbody tr th {\n",
       "        vertical-align: top;\n",
       "    }\n",
       "\n",
       "    .dataframe thead th {\n",
       "        text-align: right;\n",
       "    }\n",
       "</style>\n",
       "<table border=\"1\" class=\"dataframe\">\n",
       "  <thead>\n",
       "    <tr style=\"text-align: right;\">\n",
       "      <th></th>\n",
       "      <th>toxic</th>\n",
       "      <th>severe_toxic</th>\n",
       "      <th>obscene</th>\n",
       "      <th>threat</th>\n",
       "      <th>insult</th>\n",
       "      <th>identity_hate</th>\n",
       "    </tr>\n",
       "  </thead>\n",
       "  <tbody>\n",
       "    <tr>\n",
       "      <th>0</th>\n",
       "      <td>0</td>\n",
       "      <td>0</td>\n",
       "      <td>0</td>\n",
       "      <td>0</td>\n",
       "      <td>0</td>\n",
       "      <td>0</td>\n",
       "    </tr>\n",
       "    <tr>\n",
       "      <th>1</th>\n",
       "      <td>0</td>\n",
       "      <td>0</td>\n",
       "      <td>0</td>\n",
       "      <td>0</td>\n",
       "      <td>0</td>\n",
       "      <td>0</td>\n",
       "    </tr>\n",
       "    <tr>\n",
       "      <th>2</th>\n",
       "      <td>0</td>\n",
       "      <td>0</td>\n",
       "      <td>0</td>\n",
       "      <td>0</td>\n",
       "      <td>0</td>\n",
       "      <td>0</td>\n",
       "    </tr>\n",
       "    <tr>\n",
       "      <th>3</th>\n",
       "      <td>0</td>\n",
       "      <td>0</td>\n",
       "      <td>0</td>\n",
       "      <td>0</td>\n",
       "      <td>0</td>\n",
       "      <td>0</td>\n",
       "    </tr>\n",
       "    <tr>\n",
       "      <th>4</th>\n",
       "      <td>0</td>\n",
       "      <td>0</td>\n",
       "      <td>0</td>\n",
       "      <td>0</td>\n",
       "      <td>0</td>\n",
       "      <td>0</td>\n",
       "    </tr>\n",
       "    <tr>\n",
       "      <th>...</th>\n",
       "      <td>...</td>\n",
       "      <td>...</td>\n",
       "      <td>...</td>\n",
       "      <td>...</td>\n",
       "      <td>...</td>\n",
       "      <td>...</td>\n",
       "    </tr>\n",
       "    <tr>\n",
       "      <th>119674</th>\n",
       "      <td>0</td>\n",
       "      <td>0</td>\n",
       "      <td>0</td>\n",
       "      <td>0</td>\n",
       "      <td>0</td>\n",
       "      <td>0</td>\n",
       "    </tr>\n",
       "    <tr>\n",
       "      <th>119675</th>\n",
       "      <td>0</td>\n",
       "      <td>0</td>\n",
       "      <td>0</td>\n",
       "      <td>0</td>\n",
       "      <td>0</td>\n",
       "      <td>0</td>\n",
       "    </tr>\n",
       "    <tr>\n",
       "      <th>119676</th>\n",
       "      <td>0</td>\n",
       "      <td>0</td>\n",
       "      <td>0</td>\n",
       "      <td>0</td>\n",
       "      <td>0</td>\n",
       "      <td>0</td>\n",
       "    </tr>\n",
       "    <tr>\n",
       "      <th>119677</th>\n",
       "      <td>0</td>\n",
       "      <td>0</td>\n",
       "      <td>0</td>\n",
       "      <td>0</td>\n",
       "      <td>0</td>\n",
       "      <td>0</td>\n",
       "    </tr>\n",
       "    <tr>\n",
       "      <th>119678</th>\n",
       "      <td>0</td>\n",
       "      <td>0</td>\n",
       "      <td>0</td>\n",
       "      <td>0</td>\n",
       "      <td>0</td>\n",
       "      <td>0</td>\n",
       "    </tr>\n",
       "  </tbody>\n",
       "</table>\n",
       "<p>119679 rows × 6 columns</p>\n",
       "</div>"
      ],
      "text/plain": [
       "        toxic  severe_toxic  obscene  threat  insult  identity_hate\n",
       "0           0             0        0       0       0              0\n",
       "1           0             0        0       0       0              0\n",
       "2           0             0        0       0       0              0\n",
       "3           0             0        0       0       0              0\n",
       "4           0             0        0       0       0              0\n",
       "...       ...           ...      ...     ...     ...            ...\n",
       "119674      0             0        0       0       0              0\n",
       "119675      0             0        0       0       0              0\n",
       "119676      0             0        0       0       0              0\n",
       "119677      0             0        0       0       0              0\n",
       "119678      0             0        0       0       0              0\n",
       "\n",
       "[119679 rows x 6 columns]"
      ]
     },
     "execution_count": 31,
     "metadata": {
      "tags": []
     },
     "output_type": "execute_result"
    }
   ],
   "source": [
    "# Multilabel Classification\n",
    "# This cell shows how the labels can belong to any of the 6 classes. \n",
    "# Hence, this is a multi-label classification problem.\n",
    "y_train"
   ]
  },
  {
   "cell_type": "code",
   "execution_count": 13,
   "metadata": {
    "colab": {
     "base_uri": "https://localhost:8080/",
     "height": 313
    },
    "id": "VUZLUl3F8oR1",
    "outputId": "e364da87-f938-4b7c-8f42-77ef8e0587ae"
   },
   "outputs": [
    {
     "data": {
      "image/png": "[encoded data removed]",
      "text/plain": [
       "<Figure size 432x288 with 1 Axes>"
      ]
     },
     "metadata": {
      "needs_background": "light",
      "tags": []
     },
     "output_type": "display_data"
    },
    {
     "name": "stdout",
     "output_type": "stream",
     "text": [
      "Number of non-toxic comments :  143663\n"
     ]
    }
   ],
   "source": [
    "# Visualization - Number of comments and the length of comments for each type of toxicity [9]\n",
    "# [4]\n",
    "not_toxic = 0\n",
    "yi = np.zeros(y.shape)\n",
    "for i in range(len(data['comment_text'])):\n",
    "  l = len(data['comment_text'][i])\n",
    "\n",
    "  if data['toxic'][i] == 1:\n",
    "        yi[i][0] = l\n",
    "  if data['severe_toxic'][i] == 1:\n",
    "        yi[i][1] = l\n",
    "  if data['insult'][i] == 1:\n",
    "        yi[i][2] = l\n",
    "  if data['threat'][i] == 1:\n",
    "        yi[i][3] = l\n",
    "  if data['obscene'][i] == 1:\n",
    "        yi[i][4] = l\n",
    "  if data['identity_hate'][i] == 1:\n",
    "        yi[i][5] = l\n",
    "  elif data['toxic'][i] == 0 and data['severe_toxic'][i]== 0 and data['insult'][i]==0 and data['identity_hate'][i]==0 and data['threat'][i]==0:\n",
    "    not_toxic += 1\n",
    "bins = [1, 200, 400, 600, 800, 1000, 1200]\n",
    "labelsplt = ['toxic','severe_toxic','obscene','threat','insult','identity_hate']\n",
    "color = ['red','green','blue','yellow','orange','chartreuse']        \n",
    "plt.hist(yi,bins = bins,label = labelsplt,color = color)\n",
    "plt.axis([0, 1200, 0, 12000])\n",
    "plt.xlabel('Length of comments')\n",
    "plt.ylabel('Number of comments') \n",
    "plt.legend()\n",
    "plt.title('Length and frequency of toxic comments according to their type')\n",
    "plt.show()\n",
    "print(\"Number of non-toxic comments : \", not_toxic)"
   ]
  },
  {
   "cell_type": "markdown",
   "metadata": {
    "id": "gCpKbd4tp43G"
   },
   "source": [
    "## VECTORIZATION"
   ]
  },
  {
   "cell_type": "markdown",
   "metadata": {
    "id": "2Zco-akIfeh_"
   },
   "source": [
    "CREATING WORD EMBEDDINGS USING THE GLOVE MODEL"
   ]
  },
  {
   "cell_type": "code",
   "execution_count": 33,
   "metadata": {
    "colab": {
     "base_uri": "https://localhost:8080/"
    },
    "id": "z04Mk-6ecI9Z",
    "outputId": "a3647b9a-d562-46c9-9487-cc87a76b3651"
   },
   "outputs": [
    {
     "name": "stdout",
     "output_type": "stream",
     "text": [
      "Archive:  /content/drive/My Drive/NLP_Project/glove.6B.zip\n",
      "  inflating: glove.6B.50d.txt        \n",
      "  inflating: glove.6B.100d.txt       \n",
      "  inflating: glove.6B.200d.txt       \n",
      "  inflating: glove.6B.300d.txt       \n"
     ]
    }
   ],
   "source": [
    "# Unzipping the Glove model\n",
    "!unzip \"/content/drive/My Drive/NLP_Project/glove.6B.zip\""
   ]
  },
  {
   "cell_type": "code",
   "execution_count": 34,
   "metadata": {
    "id": "zpxM_ptwbmmO"
   },
   "outputs": [],
   "source": [
    "# Loading Embeddings\n",
    "def loadGloveModel(gloveFile):\n",
    "    print(\"Loading Glove Model\")\n",
    "    f = open(gloveFile,'r',encoding=\"utf8\")\n",
    "    model = {}\n",
    "    for line in f:\n",
    "        try:\n",
    "            splitLine = line.split()\n",
    "            word = splitLine[0]\n",
    "            embedding = np.array([float(val) for val in splitLine[1:]])\n",
    "            model[word] = embedding\n",
    "        except:\n",
    "          None \n",
    "    print(\"Done.\",len(model),\" words loaded!\")\n",
    "    return model"
   ]
  },
  {
   "cell_type": "code",
   "execution_count": 35,
   "metadata": {
    "colab": {
     "base_uri": "https://localhost:8080/"
    },
    "id": "gdNNvFn_cE_a",
    "outputId": "2fbf4673-0952-4193-8979-177ba6911e4f"
   },
   "outputs": [
    {
     "name": "stdout",
     "output_type": "stream",
     "text": [
      "Loading Glove Model\n",
      "Done. 400000  words loaded!\n"
     ]
    }
   ],
   "source": [
    "# Loading the glove model\n",
    "glove_embeddings = loadGloveModel('glove.6B.300d.txt')"
   ]
  },
  {
   "cell_type": "code",
   "execution_count": 36,
   "metadata": {
    "colab": {
     "base_uri": "https://localhost:8080/"
    },
    "id": "KJ7ILEP8c_sp",
    "outputId": "79a1ca10-bae4-4b5f-b941-4e9a64d70031"
   },
   "outputs": [
    {
     "name": "stdout",
     "output_type": "stream",
     "text": [
      "[[17403, 3000, 3685, 19791, 17023, 19384, 4292, 13635, 10695, 2918, 3648, 7152, 8216, 9007, 7904, 8107, 15902, 18886, 6589, 2816, 5551, 18799, 1441, 16184, 9752, 4513, 17233, 7285, 11920, 14213, 9465, 14282, 16702, 3685, 18479, 1881, 3685, 6157, 5852, 16454, 599, 8843, 12322, 19182, 3837, 8669, 6169], [4444, 13962, 5215, 7438, 11094, 4849, 599, 11865, 13088, 12415, 11213, 6157, 13074, 7890, 17296, 8110, 14400, 7307], [3601, 743, 599, 7561, 14780, 12609, 489, 2183, 13537, 7140, 15902, 9628, 7438, 10940, 5126, 14978, 7848, 10632, 9131, 14213, 5491, 489, 9329, 14475, 19791, 19958, 5756, 4292, 6157, 5852, 13962, 19490, 489, 9041, 981, 17705, 3685, 4084, 3699, 3685, 1871, 19641], [981, 1441, 18820, 9882, 11983, 19238, 2607, 6589, 3343, 1441, 5029, 12528, 3685, 8144, 1827, 6507, 6362, 10040, 6589, 453, 6763, 19689, 5756, 19437, 5756, 8285, 1441, 10744, 3685, 3517, 8034, 1673, 6427, 11675, 9628, 9007, 13317, 7904, 13280, 3685, 3342, 497, 12421, 18870, 7020, 12421, 11331, 1441, 13445, 5423, 9628, 10040, 6589, 12528, 6321, 2328, 16575, 241, 3546, 12528, 565, 15519, 11983, 18330, 12410, 4084, 7640, 6589, 3517, 453, 7259, 489, 5423, 7140, 1426, 9465, 398, 9329, 3185, 1849, 17878, 489, 6362, 6763, 1125, 6589, 18601, 12410, 4113, 11675, 1441, 17928, 1849, 8034, 6362, 6763, 2870, 13880, 6763, 10930, 12765, 15438, 7140, 15095, 13280, 3685, 10632, 7671, 3770, 12041, 15300, 13112, 16231, 1273], [565, 10032, 13317, 4292, 7346, 11983, 8711, 565, 15815, 13525, 5852, 9628, 6589], [17398, 1881, 9329, 10031, 3537, 6987, 3685, 7368, 3537, 8894, 6157], [16939, 19327, 565, 8984, 18740, 6589, 4292, 7895], [9571, 13925, 489, 3685, 15904, 1390, 13112, 4300, 2003, 8216, 9465, 14282, 5423, 7140, 11869, 453, 565, 16388, 6362, 17077], [18489, 12528, 3685, 11568, 517, 1667, 19140, 489, 565, 2510, 599, 14780, 4949, 489, 444, 4174, 13280, 3685, 13112, 7759, 9007, 16185, 5356, 6589, 9329, 12410, 13925, 599, 15112, 19119, 9628, 7140, 6362, 981, 2886, 11675, 2328, 13445, 6987, 7140, 12410, 1624, 10031, 6763, 9195, 1441, 15519, 2003, 489, 3685, 14478, 14376, 5852, 10102, 7140, 2198, 6763, 3261, 7140, 11741, 489, 14509, 14376, 14622, 5126, 6763, 6094, 11484, 13112, 9628, 12436, 565, 6321, 19641, 1849, 16688, 6362, 11234, 18740, 12415, 4306, 13280, 15865, 18183, 5006, 4143, 15943], [2311, 6589, 7438, 1822, 14213, 14622, 13317, 15014, 489, 11264, 5756, 2402]]\n"
     ]
    }
   ],
   "source": [
    "# One hot encoding the data\n",
    "vocabulary = 20000\n",
    "encoded_train = []\n",
    "for x in x_train:\n",
    "  e = one_hot(x, vocabulary, lower=False)\n",
    "  encoded_train.append(e)\n",
    "print(encoded_train[:10])"
   ]
  },
  {
   "cell_type": "code",
   "execution_count": 37,
   "metadata": {
    "id": "U0idABINBd8E"
   },
   "outputs": [],
   "source": [
    "# Creating vocabulary\n",
    "tokens= set()\n",
    "for x in x_train:\n",
    "  for t in nltk.word_tokenize(x):\n",
    "    tokens.add(t)\n",
    "vocabulary_size = len(tokens) + 1\n",
    "# Creating word to number dictionary\n",
    "word_index = {}\n",
    "counter = 1\n",
    "for i in tokens:\n",
    "  word_index[i] = counter\n",
    "  counter += 1"
   ]
  },
  {
   "cell_type": "code",
   "execution_count": 38,
   "metadata": {
    "id": "kvGZPwBNC82-"
   },
   "outputs": [],
   "source": [
    "# Encoding the data with word dictionary\n",
    "def encode(l):\n",
    "  encoded = []\n",
    "  for x in l:\n",
    "    encode_x = []\n",
    "    for t in nltk.word_tokenize(x):\n",
    "      try:\n",
    "        encode_x.append(word_index[t])\n",
    "      except:\n",
    "        encode_x.append(0)\n",
    "    encoded.append(encode_x)\n",
    "\n",
    "  # Padding data to a max length of words\n",
    "  # Max sequence length is 40\n",
    "  max_length = 40\n",
    "  padded_x = pad_sequences(encoded, maxlen=max_length, padding='post')\n",
    "  return padded_x, max_length"
   ]
  },
  {
   "cell_type": "code",
   "execution_count": 39,
   "metadata": {
    "id": "gQW_k0yGtZOZ"
   },
   "outputs": [],
   "source": [
    "# Calling the encoding function on training and validation data\n",
    "padded_train, max_length = encode(x_train)\n",
    "padded_val, max_length = encode(x_val)"
   ]
  },
  {
   "cell_type": "code",
   "execution_count": 40,
   "metadata": {
    "id": "MpQ_VvN3tcwb"
   },
   "outputs": [],
   "source": [
    "# Creating a weight matrix for words in training data\n",
    "embedding_matrix = np.zeros((vocabulary_size, 300))\n",
    "for word, i in word_index.items():\n",
    "\tembedding_vector = glove_embeddings.get(word)\n",
    "\tif embedding_vector is not None:\n",
    "\t\tembedding_matrix[i] = embedding_vector"
   ]
  },
  {
   "cell_type": "markdown",
   "metadata": {
    "id": "1DKcZKTKp-1e"
   },
   "source": [
    "VISUALIZATION 2 : CREATING A WORDCLOUD TO SEE THE MOST FREQUENT WORDS IN COMMENTS"
   ]
  },
  {
   "cell_type": "code",
   "execution_count": 19,
   "metadata": {
    "colab": {
     "base_uri": "https://localhost:8080/",
     "height": 483
    },
    "id": "Z7Yc1rfe8oI5",
    "outputId": "b3d7f460-99c5-449a-ca87-13db7c56f92e"
   },
   "outputs": [
    {
     "data": {
      "text/plain": [
       "Text(0.5, 1.0, 'Most frequent words in the comments')"
      ]
     },
     "execution_count": 19,
     "metadata": {
      "tags": []
     },
     "output_type": "execute_result"
    },
    {
     "data": {
      "image/png": "[encoded data removed]",
      "text/plain": [
       "<Figure size 1080x576 with 1 Axes>"
      ]
     },
     "metadata": {
      "needs_background": "light",
      "tags": []
     },
     "output_type": "display_data"
    }
   ],
   "source": [
    "# Wordcloud of the most frequently occuring words in the comments\n",
    "unique_string = \" \"\n",
    "for t in tokens:\n",
    "    unique_string += \" \" + t\n",
    "wordcloud = WordCloud(max_font_size=50, max_words=100, background_color=\"white\").generate(unique_string)\n",
    "plt.figure(figsize=(15,8))\n",
    "plt.imshow(wordcloud)\n",
    "plt.axis(\"off\")\n",
    "plt.title('Most frequent words in the comments')"
   ]
  },
  {
   "cell_type": "markdown",
   "metadata": {
    "id": "9jfhtF6Dhjhf"
   },
   "source": [
    "LOADING THE TEST DATA"
   ]
  },
  {
   "cell_type": "code",
   "execution_count": 41,
   "metadata": {
    "colab": {
     "base_uri": "https://localhost:8080/",
     "height": 415
    },
    "id": "O1ggoE3d0cWW",
    "outputId": "a8f35176-c35d-49a0-e0f4-c2777e92203e"
   },
   "outputs": [
    {
     "data": {
      "text/html": [
       "<div>\n",
       "<style scoped>\n",
       "    .dataframe tbody tr th:only-of-type {\n",
       "        vertical-align: middle;\n",
       "    }\n",
       "\n",
       "    .dataframe tbody tr th {\n",
       "        vertical-align: top;\n",
       "    }\n",
       "\n",
       "    .dataframe thead th {\n",
       "        text-align: right;\n",
       "    }\n",
       "</style>\n",
       "<table border=\"1\" class=\"dataframe\">\n",
       "  <thead>\n",
       "    <tr style=\"text-align: right;\">\n",
       "      <th></th>\n",
       "      <th>id</th>\n",
       "      <th>comment_text</th>\n",
       "    </tr>\n",
       "  </thead>\n",
       "  <tbody>\n",
       "    <tr>\n",
       "      <th>0</th>\n",
       "      <td>00001cee341fdb12</td>\n",
       "      <td>Yo bitch Ja Rule is more succesful then you'll...</td>\n",
       "    </tr>\n",
       "    <tr>\n",
       "      <th>1</th>\n",
       "      <td>0000247867823ef7</td>\n",
       "      <td>== From RfC == \\n\\n The title is fine as it is...</td>\n",
       "    </tr>\n",
       "    <tr>\n",
       "      <th>2</th>\n",
       "      <td>00013b17ad220c46</td>\n",
       "      <td>\" \\n\\n == Sources == \\n\\n * Zawe Ashton on Lap...</td>\n",
       "    </tr>\n",
       "    <tr>\n",
       "      <th>3</th>\n",
       "      <td>00017563c3f7919a</td>\n",
       "      <td>:If you have a look back at the source, the in...</td>\n",
       "    </tr>\n",
       "    <tr>\n",
       "      <th>4</th>\n",
       "      <td>00017695ad8997eb</td>\n",
       "      <td>I don't anonymously edit articles at all.</td>\n",
       "    </tr>\n",
       "    <tr>\n",
       "      <th>...</th>\n",
       "      <td>...</td>\n",
       "      <td>...</td>\n",
       "    </tr>\n",
       "    <tr>\n",
       "      <th>153159</th>\n",
       "      <td>fffcd0960ee309b5</td>\n",
       "      <td>. \\n i totally agree, this stuff is nothing bu...</td>\n",
       "    </tr>\n",
       "    <tr>\n",
       "      <th>153160</th>\n",
       "      <td>fffd7a9a6eb32c16</td>\n",
       "      <td>== Throw from out field to home plate. == \\n\\n...</td>\n",
       "    </tr>\n",
       "    <tr>\n",
       "      <th>153161</th>\n",
       "      <td>fffda9e8d6fafa9e</td>\n",
       "      <td>\" \\n\\n == Okinotorishima categories == \\n\\n I ...</td>\n",
       "    </tr>\n",
       "    <tr>\n",
       "      <th>153162</th>\n",
       "      <td>fffe8f1340a79fc2</td>\n",
       "      <td>\" \\n\\n == \"\"One of the founding nations of the...</td>\n",
       "    </tr>\n",
       "    <tr>\n",
       "      <th>153163</th>\n",
       "      <td>ffffce3fb183ee80</td>\n",
       "      <td>\" \\n :::Stop already. Your bullshit is not wel...</td>\n",
       "    </tr>\n",
       "  </tbody>\n",
       "</table>\n",
       "<p>153164 rows × 2 columns</p>\n",
       "</div>"
      ],
      "text/plain": [
       "                      id                                       comment_text\n",
       "0       00001cee341fdb12  Yo bitch Ja Rule is more succesful then you'll...\n",
       "1       0000247867823ef7  == From RfC == \\n\\n The title is fine as it is...\n",
       "2       00013b17ad220c46  \" \\n\\n == Sources == \\n\\n * Zawe Ashton on Lap...\n",
       "3       00017563c3f7919a  :If you have a look back at the source, the in...\n",
       "4       00017695ad8997eb          I don't anonymously edit articles at all.\n",
       "...                  ...                                                ...\n",
       "153159  fffcd0960ee309b5  . \\n i totally agree, this stuff is nothing bu...\n",
       "153160  fffd7a9a6eb32c16  == Throw from out field to home plate. == \\n\\n...\n",
       "153161  fffda9e8d6fafa9e  \" \\n\\n == Okinotorishima categories == \\n\\n I ...\n",
       "153162  fffe8f1340a79fc2  \" \\n\\n == \"\"One of the founding nations of the...\n",
       "153163  ffffce3fb183ee80  \" \\n :::Stop already. Your bullshit is not wel...\n",
       "\n",
       "[153164 rows x 2 columns]"
      ]
     },
     "execution_count": 41,
     "metadata": {
      "tags": []
     },
     "output_type": "execute_result"
    }
   ],
   "source": [
    "#  Reading the test data \n",
    "test_data = pd.read_csv(r\"/content/drive/My Drive/NLP_Project/jigsaw-toxic-comment-classification-challenge/test.csv\")\n",
    "test_data"
   ]
  },
  {
   "cell_type": "code",
   "execution_count": 42,
   "metadata": {
    "colab": {
     "base_uri": "https://localhost:8080/",
     "height": 415
    },
    "id": "z4dp9mWE2NM-",
    "outputId": "bffd7ca0-89ce-4426-fa9f-07a94b6c088e"
   },
   "outputs": [
    {
     "data": {
      "text/html": [
       "<div>\n",
       "<style scoped>\n",
       "    .dataframe tbody tr th:only-of-type {\n",
       "        vertical-align: middle;\n",
       "    }\n",
       "\n",
       "    .dataframe tbody tr th {\n",
       "        vertical-align: top;\n",
       "    }\n",
       "\n",
       "    .dataframe thead th {\n",
       "        text-align: right;\n",
       "    }\n",
       "</style>\n",
       "<table border=\"1\" class=\"dataframe\">\n",
       "  <thead>\n",
       "    <tr style=\"text-align: right;\">\n",
       "      <th></th>\n",
       "      <th>id</th>\n",
       "      <th>toxic</th>\n",
       "      <th>severe_toxic</th>\n",
       "      <th>obscene</th>\n",
       "      <th>threat</th>\n",
       "      <th>insult</th>\n",
       "      <th>identity_hate</th>\n",
       "    </tr>\n",
       "  </thead>\n",
       "  <tbody>\n",
       "    <tr>\n",
       "      <th>0</th>\n",
       "      <td>00001cee341fdb12</td>\n",
       "      <td>-1</td>\n",
       "      <td>-1</td>\n",
       "      <td>-1</td>\n",
       "      <td>-1</td>\n",
       "      <td>-1</td>\n",
       "      <td>-1</td>\n",
       "    </tr>\n",
       "    <tr>\n",
       "      <th>1</th>\n",
       "      <td>0000247867823ef7</td>\n",
       "      <td>-1</td>\n",
       "      <td>-1</td>\n",
       "      <td>-1</td>\n",
       "      <td>-1</td>\n",
       "      <td>-1</td>\n",
       "      <td>-1</td>\n",
       "    </tr>\n",
       "    <tr>\n",
       "      <th>2</th>\n",
       "      <td>00013b17ad220c46</td>\n",
       "      <td>-1</td>\n",
       "      <td>-1</td>\n",
       "      <td>-1</td>\n",
       "      <td>-1</td>\n",
       "      <td>-1</td>\n",
       "      <td>-1</td>\n",
       "    </tr>\n",
       "    <tr>\n",
       "      <th>3</th>\n",
       "      <td>00017563c3f7919a</td>\n",
       "      <td>-1</td>\n",
       "      <td>-1</td>\n",
       "      <td>-1</td>\n",
       "      <td>-1</td>\n",
       "      <td>-1</td>\n",
       "      <td>-1</td>\n",
       "    </tr>\n",
       "    <tr>\n",
       "      <th>4</th>\n",
       "      <td>00017695ad8997eb</td>\n",
       "      <td>-1</td>\n",
       "      <td>-1</td>\n",
       "      <td>-1</td>\n",
       "      <td>-1</td>\n",
       "      <td>-1</td>\n",
       "      <td>-1</td>\n",
       "    </tr>\n",
       "    <tr>\n",
       "      <th>...</th>\n",
       "      <td>...</td>\n",
       "      <td>...</td>\n",
       "      <td>...</td>\n",
       "      <td>...</td>\n",
       "      <td>...</td>\n",
       "      <td>...</td>\n",
       "      <td>...</td>\n",
       "    </tr>\n",
       "    <tr>\n",
       "      <th>153159</th>\n",
       "      <td>fffcd0960ee309b5</td>\n",
       "      <td>-1</td>\n",
       "      <td>-1</td>\n",
       "      <td>-1</td>\n",
       "      <td>-1</td>\n",
       "      <td>-1</td>\n",
       "      <td>-1</td>\n",
       "    </tr>\n",
       "    <tr>\n",
       "      <th>153160</th>\n",
       "      <td>fffd7a9a6eb32c16</td>\n",
       "      <td>-1</td>\n",
       "      <td>-1</td>\n",
       "      <td>-1</td>\n",
       "      <td>-1</td>\n",
       "      <td>-1</td>\n",
       "      <td>-1</td>\n",
       "    </tr>\n",
       "    <tr>\n",
       "      <th>153161</th>\n",
       "      <td>fffda9e8d6fafa9e</td>\n",
       "      <td>-1</td>\n",
       "      <td>-1</td>\n",
       "      <td>-1</td>\n",
       "      <td>-1</td>\n",
       "      <td>-1</td>\n",
       "      <td>-1</td>\n",
       "    </tr>\n",
       "    <tr>\n",
       "      <th>153162</th>\n",
       "      <td>fffe8f1340a79fc2</td>\n",
       "      <td>-1</td>\n",
       "      <td>-1</td>\n",
       "      <td>-1</td>\n",
       "      <td>-1</td>\n",
       "      <td>-1</td>\n",
       "      <td>-1</td>\n",
       "    </tr>\n",
       "    <tr>\n",
       "      <th>153163</th>\n",
       "      <td>ffffce3fb183ee80</td>\n",
       "      <td>-1</td>\n",
       "      <td>-1</td>\n",
       "      <td>-1</td>\n",
       "      <td>-1</td>\n",
       "      <td>-1</td>\n",
       "      <td>-1</td>\n",
       "    </tr>\n",
       "  </tbody>\n",
       "</table>\n",
       "<p>153164 rows × 7 columns</p>\n",
       "</div>"
      ],
      "text/plain": [
       "                      id  toxic  severe_toxic  ...  threat  insult  identity_hate\n",
       "0       00001cee341fdb12     -1            -1  ...      -1      -1             -1\n",
       "1       0000247867823ef7     -1            -1  ...      -1      -1             -1\n",
       "2       00013b17ad220c46     -1            -1  ...      -1      -1             -1\n",
       "3       00017563c3f7919a     -1            -1  ...      -1      -1             -1\n",
       "4       00017695ad8997eb     -1            -1  ...      -1      -1             -1\n",
       "...                  ...    ...           ...  ...     ...     ...            ...\n",
       "153159  fffcd0960ee309b5     -1            -1  ...      -1      -1             -1\n",
       "153160  fffd7a9a6eb32c16     -1            -1  ...      -1      -1             -1\n",
       "153161  fffda9e8d6fafa9e     -1            -1  ...      -1      -1             -1\n",
       "153162  fffe8f1340a79fc2     -1            -1  ...      -1      -1             -1\n",
       "153163  ffffce3fb183ee80     -1            -1  ...      -1      -1             -1\n",
       "\n",
       "[153164 rows x 7 columns]"
      ]
     },
     "execution_count": 42,
     "metadata": {
      "tags": []
     },
     "output_type": "execute_result"
    }
   ],
   "source": [
    "# Reading the labels file\n",
    "labels = pd.read_csv(r\"/content/drive/My Drive/NLP_Project/jigsaw-toxic-comment-classification-challenge/test_labels.csv\")\n",
    "labels"
   ]
  },
  {
   "cell_type": "markdown",
   "metadata": {
    "id": "_cgBB63Dqe1m"
   },
   "source": [
    "CLEANING THE TEST DATA"
   ]
  },
  {
   "cell_type": "code",
   "execution_count": 43,
   "metadata": {
    "id": "OTK658SIXxSE"
   },
   "outputs": [],
   "source": [
    "# Calling the data cleaning function on test data\n",
    "test_processed = process_all(test_data)\n",
    "test_processed = test_processed.drop('id', axis=1)"
   ]
  },
  {
   "cell_type": "code",
   "execution_count": 44,
   "metadata": {
    "colab": {
     "base_uri": "https://localhost:8080/",
     "height": 415
    },
    "id": "4Ur5igAy3GGg",
    "outputId": "7730a61e-b31c-44b6-ce24-5765fabb5a13"
   },
   "outputs": [
    {
     "data": {
      "text/html": [
       "<div>\n",
       "<style scoped>\n",
       "    .dataframe tbody tr th:only-of-type {\n",
       "        vertical-align: middle;\n",
       "    }\n",
       "\n",
       "    .dataframe tbody tr th {\n",
       "        vertical-align: top;\n",
       "    }\n",
       "\n",
       "    .dataframe thead th {\n",
       "        text-align: right;\n",
       "    }\n",
       "</style>\n",
       "<table border=\"1\" class=\"dataframe\">\n",
       "  <thead>\n",
       "    <tr style=\"text-align: right;\">\n",
       "      <th></th>\n",
       "      <th>comment_text</th>\n",
       "      <th>id</th>\n",
       "      <th>toxic</th>\n",
       "      <th>severe_toxic</th>\n",
       "      <th>obscene</th>\n",
       "      <th>threat</th>\n",
       "      <th>insult</th>\n",
       "      <th>identity_hate</th>\n",
       "    </tr>\n",
       "  </thead>\n",
       "  <tbody>\n",
       "    <tr>\n",
       "      <th>5</th>\n",
       "      <td>thank you for understanding  i think very high...</td>\n",
       "      <td>0001ea8717f6de06</td>\n",
       "      <td>0</td>\n",
       "      <td>0</td>\n",
       "      <td>0</td>\n",
       "      <td>0</td>\n",
       "      <td>0</td>\n",
       "      <td>0</td>\n",
       "    </tr>\n",
       "    <tr>\n",
       "      <th>7</th>\n",
       "      <td>dear god this site is horrible</td>\n",
       "      <td>000247e83dcc1211</td>\n",
       "      <td>0</td>\n",
       "      <td>0</td>\n",
       "      <td>0</td>\n",
       "      <td>0</td>\n",
       "      <td>0</td>\n",
       "      <td>0</td>\n",
       "    </tr>\n",
       "    <tr>\n",
       "      <th>11</th>\n",
       "      <td>somebody will invariably try to add relig...</td>\n",
       "      <td>0002f87b16116a7f</td>\n",
       "      <td>0</td>\n",
       "      <td>0</td>\n",
       "      <td>0</td>\n",
       "      <td>0</td>\n",
       "      <td>0</td>\n",
       "      <td>0</td>\n",
       "    </tr>\n",
       "    <tr>\n",
       "      <th>13</th>\n",
       "      <td>it says it right there that it is a type ...</td>\n",
       "      <td>0003e1cccfd5a40a</td>\n",
       "      <td>0</td>\n",
       "      <td>0</td>\n",
       "      <td>0</td>\n",
       "      <td>0</td>\n",
       "      <td>0</td>\n",
       "      <td>0</td>\n",
       "    </tr>\n",
       "    <tr>\n",
       "      <th>14</th>\n",
       "      <td>before adding a new product to the lis...</td>\n",
       "      <td>00059ace3e3e9a53</td>\n",
       "      <td>0</td>\n",
       "      <td>0</td>\n",
       "      <td>0</td>\n",
       "      <td>0</td>\n",
       "      <td>0</td>\n",
       "      <td>0</td>\n",
       "    </tr>\n",
       "    <tr>\n",
       "      <th>...</th>\n",
       "      <td>...</td>\n",
       "      <td>...</td>\n",
       "      <td>...</td>\n",
       "      <td>...</td>\n",
       "      <td>...</td>\n",
       "      <td>...</td>\n",
       "      <td>...</td>\n",
       "      <td>...</td>\n",
       "    </tr>\n",
       "    <tr>\n",
       "      <th>153150</th>\n",
       "      <td>jerome  i see you never got around to this…  ...</td>\n",
       "      <td>fff8f64043129fa2</td>\n",
       "      <td>0</td>\n",
       "      <td>0</td>\n",
       "      <td>0</td>\n",
       "      <td>0</td>\n",
       "      <td>0</td>\n",
       "      <td>0</td>\n",
       "    </tr>\n",
       "    <tr>\n",
       "      <th>153151</th>\n",
       "      <td>lucky bastard     http   wikimediafoundation...</td>\n",
       "      <td>fff9d70fe0722906</td>\n",
       "      <td>0</td>\n",
       "      <td>0</td>\n",
       "      <td>0</td>\n",
       "      <td>0</td>\n",
       "      <td>0</td>\n",
       "      <td>0</td>\n",
       "    </tr>\n",
       "    <tr>\n",
       "      <th>153154</th>\n",
       "      <td>shame on you all         you want to speak a...</td>\n",
       "      <td>fffa8a11c4378854</td>\n",
       "      <td>0</td>\n",
       "      <td>0</td>\n",
       "      <td>0</td>\n",
       "      <td>0</td>\n",
       "      <td>0</td>\n",
       "      <td>0</td>\n",
       "    </tr>\n",
       "    <tr>\n",
       "      <th>153155</th>\n",
       "      <td>mel gibson is a nazi bitch who makes shitty mo...</td>\n",
       "      <td>fffac2a094c8e0e2</td>\n",
       "      <td>1</td>\n",
       "      <td>0</td>\n",
       "      <td>1</td>\n",
       "      <td>0</td>\n",
       "      <td>1</td>\n",
       "      <td>0</td>\n",
       "    </tr>\n",
       "    <tr>\n",
       "      <th>153156</th>\n",
       "      <td>unicorn lair discovery       supposedl...</td>\n",
       "      <td>fffb5451268fb5ba</td>\n",
       "      <td>0</td>\n",
       "      <td>0</td>\n",
       "      <td>0</td>\n",
       "      <td>0</td>\n",
       "      <td>0</td>\n",
       "      <td>0</td>\n",
       "    </tr>\n",
       "  </tbody>\n",
       "</table>\n",
       "<p>63978 rows × 8 columns</p>\n",
       "</div>"
      ],
      "text/plain": [
       "                                             comment_text  ... identity_hate\n",
       "5       thank you for understanding  i think very high...  ...             0\n",
       "7                         dear god this site is horrible   ...             0\n",
       "11           somebody will invariably try to add relig...  ...             0\n",
       "13           it says it right there that it is a type ...  ...             0\n",
       "14              before adding a new product to the lis...  ...             0\n",
       "...                                                   ...  ...           ...\n",
       "153150   jerome  i see you never got around to this…  ...  ...             0\n",
       "153151    lucky bastard     http   wikimediafoundation...  ...             0\n",
       "153154    shame on you all         you want to speak a...  ...             0\n",
       "153155  mel gibson is a nazi bitch who makes shitty mo...  ...             0\n",
       "153156          unicorn lair discovery       supposedl...  ...             0\n",
       "\n",
       "[63978 rows x 8 columns]"
      ]
     },
     "execution_count": 44,
     "metadata": {
      "tags": []
     },
     "output_type": "execute_result"
    }
   ],
   "source": [
    "# Removing columns with label score \"-1\" to find evaluation values on test data\n",
    "# Combining the comment and labels csv files to remove the incorrect rows\n",
    "df = pd.concat([test_processed, labels], axis=1, sort=False)\n",
    "df = df[df.toxic != -1]\n",
    "df = df[df.severe_toxic != -1]\n",
    "df = df[df.obscene != -1]\n",
    "df = df[df.insult != -1]\n",
    "df = df[df.identity_hate != -1]\n",
    "df"
   ]
  },
  {
   "cell_type": "code",
   "execution_count": 45,
   "metadata": {
    "id": "khJ4_6RfT2KN"
   },
   "outputs": [],
   "source": [
    "# Creating embeddings of the test comments\n",
    "x_test = df['comment_text']\n",
    "padded_test, max_length = encode(x_test)\n",
    "y_test = df[['toxic', 'severe_toxic', 'obscene', 'threat', 'insult', 'identity_hate']]"
   ]
  },
  {
   "cell_type": "markdown",
   "metadata": {
    "id": "-CtPlUCxh54B"
   },
   "source": [
    "## CLASSIFYING COMMENTS BASED ON TOXICITY\n",
    "\n",
    "BASELINE CLASSIFIER : \n",
    "Multinomial Naive Bayes\n",
    "\n",
    "COMPLEX MODELS : \n",
    "1. Vanilla RNN\n",
    "2. LSTM"
   ]
  },
  {
   "cell_type": "markdown",
   "metadata": {
    "id": "4ez--HV5qrox"
   },
   "source": [
    "MULTINOMIAL NAIVE BAYES"
   ]
  },
  {
   "cell_type": "code",
   "execution_count": 27,
   "metadata": {
    "colab": {
     "base_uri": "https://localhost:8080/"
    },
    "id": "tpj5PV7Ly7F1",
    "outputId": "40b33a77-7bfb-4a07-b286-607ef78e05b3"
   },
   "outputs": [
    {
     "name": "stdout",
     "output_type": "stream",
     "text": [
      "Train Accuracy :  0.539568345323741\n"
     ]
    }
   ],
   "source": [
    "# Training the model\n",
    "\n",
    "# Defining the model\n",
    "nb_classifier = BinaryRelevance(classifier = MultinomialNB(), require_dense = [False, True])\n",
    "# Fitting the model\n",
    "nb_classifier.fit(padded_train, y_train)\n",
    "# Predicting on training data to find the training accuracy\n",
    "predictions = nb_classifier.predict(padded_train)\n",
    "\n",
    "print(\"Train Accuracy : \", accuracy_score(y_train,predictions))"
   ]
  },
  {
   "cell_type": "code",
   "execution_count": 28,
   "metadata": {
    "colab": {
     "base_uri": "https://localhost:8080/"
    },
    "id": "WUxEmxj8y7QP",
    "outputId": "fbc8bb8d-fe35-4ee7-8400-4756855ba00e"
   },
   "outputs": [
    {
     "name": "stdout",
     "output_type": "stream",
     "text": [
      "Validation Accuracy :  0.5316855509876667\n"
     ]
    }
   ],
   "source": [
    "# Predicting on validation data to find the training accuracy\n",
    "predictions = nb_classifier.predict(padded_val)\n",
    "print(\"Validation Accuracy : \", accuracy_score(y_val,predictions))"
   ]
  },
  {
   "cell_type": "code",
   "execution_count": 29,
   "metadata": {
    "colab": {
     "base_uri": "https://localhost:8080/"
    },
    "id": "QIBfhfxUKvmG",
    "outputId": "7a8accde-8abd-4442-b4cc-fb8370af3d8b"
   },
   "outputs": [
    {
     "name": "stdout",
     "output_type": "stream",
     "text": [
      "Test accuacy :  0.5163337397230298\n"
     ]
    }
   ],
   "source": [
    "# Predicting on test data to find the training accuracy\n",
    "pred=nb_classifier.predict(padded_test)\n",
    "print(\"Test accuacy : \" , accuracy_score(y_test,pred))"
   ]
  },
  {
   "cell_type": "markdown",
   "metadata": {
    "id": "dXYjg9e7qvgk"
   },
   "source": [
    "The Multinomial Naive Bayes classifier was chosen since it is a simple model and works as a good baseline for text data. The model is underfitting the data since both the train and test accuracies are low. Hence, there is a need to switch to a much more complex model."
   ]
  },
  {
   "cell_type": "markdown",
   "metadata": {
    "id": "OBztDynxrFg0"
   },
   "source": [
    "VANILLA RNN"
   ]
  },
  {
   "cell_type": "code",
   "execution_count": 34,
   "metadata": {
    "colab": {
     "base_uri": "https://localhost:8080/"
    },
    "id": "0PAw6r3JxNiQ",
    "outputId": "9c6567a6-a4b2-4318-95a3-e612f94192f3"
   },
   "outputs": [
    {
     "name": "stdout",
     "output_type": "stream",
     "text": [
      "Model: \"sequential_1\"\n",
      "_________________________________________________________________\n",
      "Layer (type)                 Output Shape              Param #   \n",
      "=================================================================\n",
      "embedding_1 (Embedding)      (None, 20, 300)           47972100  \n",
      "_________________________________________________________________\n",
      "simple_rnn_1 (SimpleRNN)     (None, 300)               180300    \n",
      "_________________________________________________________________\n",
      "flatten_1 (Flatten)          (None, 300)               0         \n",
      "_________________________________________________________________\n",
      "dense_1 (Dense)              (None, 6)                 1806      \n",
      "=================================================================\n",
      "Total params: 48,154,206\n",
      "Trainable params: 182,106\n",
      "Non-trainable params: 47,972,100\n",
      "_________________________________________________________________\n",
      "None\n"
     ]
    }
   ],
   "source": [
    "#Base model\n",
    "model = Sequential()\n",
    "# Adding an embedding layer\n",
    "model.add(layers.Embedding(input_dim=vocabulary_size, output_dim= 300, weights=[embedding_matrix], input_length=max_length, trainable=False))\n",
    "# Adding a dense layer\n",
    "model.add(layers.SimpleRNN(300, activation='relu',recurrent_dropout=0.3,dropout=0.3))\n",
    "model.add(Flatten())\n",
    "model.add(Dense(6, activation='softmax'))\n",
    "# compile the model\n",
    "model.compile(optimizer='adam', loss='binary_crossentropy', metrics=['accuracy'])\n",
    "# summarizing the model\n",
    "print(model.summary())"
   ]
  },
  {
   "cell_type": "code",
   "execution_count": 35,
   "metadata": {
    "colab": {
     "base_uri": "https://localhost:8080/"
    },
    "id": "luoOXemkzLgF",
    "outputId": "d9f54daf-0215-40da-a657-284e1a626045"
   },
   "outputs": [
    {
     "name": "stdout",
     "output_type": "stream",
     "text": [
      "Epoch 1/50\n",
      "3740/3740 [==============================] - ETA: 0s - loss: 0.2293 - accuracy: 0.8546\n",
      "Epoch 00001: val_loss improved from inf to 0.22627, saving model to /content/drive/My Drive/NLP_Project/rnn.h5\n",
      "3740/3740 [==============================] - 94s 25ms/step - loss: 0.2293 - accuracy: 0.8546 - val_loss: 0.2263 - val_accuracy: 0.9727\n",
      "Epoch 2/50\n",
      "3739/3740 [============================>.] - ETA: 0s - loss: 0.2275 - accuracy: 0.8613\n",
      "Epoch 00002: val_loss improved from 0.22627 to 0.22528, saving model to /content/drive/My Drive/NLP_Project/rnn.h5\n",
      "3740/3740 [==============================] - 92s 25ms/step - loss: 0.2275 - accuracy: 0.8613 - val_loss: 0.2253 - val_accuracy: 0.9408\n",
      "Epoch 3/50\n",
      "3740/3740 [==============================] - ETA: 0s - loss: 0.2271 - accuracy: 0.8338\n",
      "Epoch 00003: val_loss improved from 0.22528 to 0.22520, saving model to /content/drive/My Drive/NLP_Project/rnn.h5\n",
      "3740/3740 [==============================] - 92s 25ms/step - loss: 0.2271 - accuracy: 0.8338 - val_loss: 0.2252 - val_accuracy: 0.9788\n",
      "Epoch 4/50\n",
      "3740/3740 [==============================] - ETA: 0s - loss: 0.2267 - accuracy: 0.8363\n",
      "Epoch 00004: val_loss did not improve from 0.22520\n",
      "3740/3740 [==============================] - 94s 25ms/step - loss: 0.2267 - accuracy: 0.8363 - val_loss: 0.2254 - val_accuracy: 0.9351\n",
      "Epoch 5/50\n",
      "3739/3740 [============================>.] - ETA: 0s - loss: 0.2267 - accuracy: 0.8217\n",
      "Epoch 00005: val_loss did not improve from 0.22520\n",
      "3740/3740 [==============================] - 93s 25ms/step - loss: 0.2267 - accuracy: 0.8217 - val_loss: 0.2254 - val_accuracy: 0.9795\n",
      "Epoch 6/50\n",
      "3740/3740 [==============================] - ETA: 0s - loss: 0.2274 - accuracy: 0.8377\n",
      "Epoch 00006: val_loss did not improve from 0.22520\n",
      "3740/3740 [==============================] - 93s 25ms/step - loss: 0.2274 - accuracy: 0.8377 - val_loss: 0.2258 - val_accuracy: 0.8494\n",
      "Epoch 7/50\n",
      "3739/3740 [============================>.] - ETA: 0s - loss: 0.2270 - accuracy: 0.8355\n",
      "Epoch 00007: val_loss did not improve from 0.22520\n",
      "3740/3740 [==============================] - 93s 25ms/step - loss: 0.2270 - accuracy: 0.8354 - val_loss: 0.2259 - val_accuracy: 0.9454\n",
      "Epoch 8/50\n",
      "3740/3740 [==============================] - ETA: 0s - loss: 0.2269 - accuracy: 0.8116\n",
      "Epoch 00008: val_loss did not improve from 0.22520\n",
      "3740/3740 [==============================] - 93s 25ms/step - loss: 0.2269 - accuracy: 0.8116 - val_loss: 0.2254 - val_accuracy: 0.8927\n",
      "Epoch 9/50\n",
      "3738/3740 [============================>.] - ETA: 0s - loss: 0.2269 - accuracy: 0.8277\n",
      "Epoch 00009: val_loss did not improve from 0.22520\n",
      "3740/3740 [==============================] - 92s 25ms/step - loss: 0.2269 - accuracy: 0.8278 - val_loss: 0.2254 - val_accuracy: 0.9872\n",
      "Epoch 10/50\n",
      "3740/3740 [==============================] - ETA: 0s - loss: 0.2270 - accuracy: 0.8333\n",
      "Epoch 00010: val_loss did not improve from 0.22520\n",
      "3740/3740 [==============================] - 93s 25ms/step - loss: 0.2270 - accuracy: 0.8333 - val_loss: 0.2255 - val_accuracy: 0.9495\n",
      "Epoch 11/50\n",
      "3740/3740 [==============================] - ETA: 0s - loss: 0.2271 - accuracy: 0.8379\n",
      "Epoch 00011: val_loss did not improve from 0.22520\n",
      "3740/3740 [==============================] - 93s 25ms/step - loss: 0.2271 - accuracy: 0.8379 - val_loss: 0.2257 - val_accuracy: 0.8948\n",
      "Epoch 12/50\n",
      "3740/3740 [==============================] - ETA: 0s - loss: 0.2268 - accuracy: 0.8137\n",
      "Epoch 00012: val_loss did not improve from 0.22520\n",
      "3740/3740 [==============================] - 94s 25ms/step - loss: 0.2268 - accuracy: 0.8137 - val_loss: 0.2256 - val_accuracy: 0.9433\n",
      "Epoch 13/50\n",
      "3740/3740 [==============================] - ETA: 0s - loss: 0.2276 - accuracy: 0.8310\n",
      "Epoch 00013: val_loss did not improve from 0.22520\n",
      "3740/3740 [==============================] - 95s 25ms/step - loss: 0.2276 - accuracy: 0.8310 - val_loss: 0.2263 - val_accuracy: 0.9913\n",
      "Epoch 14/50\n",
      "3739/3740 [============================>.] - ETA: 0s - loss: 0.2272 - accuracy: 0.8189\n",
      "Epoch 00014: val_loss did not improve from 0.22520\n",
      "3740/3740 [==============================] - 95s 25ms/step - loss: 0.2272 - accuracy: 0.8189 - val_loss: 0.2267 - val_accuracy: 0.9928\n",
      "Epoch 15/50\n",
      "3740/3740 [==============================] - ETA: 0s - loss: 0.2272 - accuracy: 0.8337\n",
      "Epoch 00015: val_loss did not improve from 0.22520\n",
      "3740/3740 [==============================] - 93s 25ms/step - loss: 0.2272 - accuracy: 0.8337 - val_loss: 0.2256 - val_accuracy: 0.9384\n",
      "Epoch 16/50\n",
      "3740/3740 [==============================] - ETA: 0s - loss: 0.2276 - accuracy: 0.8258\n",
      "Epoch 00016: val_loss did not improve from 0.22520\n",
      "3740/3740 [==============================] - 92s 25ms/step - loss: 0.2276 - accuracy: 0.8258 - val_loss: 0.2260 - val_accuracy: 0.9763\n",
      "Epoch 17/50\n",
      "3739/3740 [============================>.] - ETA: 0s - loss: 0.2278 - accuracy: 0.8333\n",
      "Epoch 00017: val_loss did not improve from 0.22520\n",
      "3740/3740 [==============================] - 92s 25ms/step - loss: 0.2278 - accuracy: 0.8333 - val_loss: 0.2262 - val_accuracy: 0.9600\n",
      "Epoch 18/50\n",
      "3740/3740 [==============================] - ETA: 0s - loss: 0.2276 - accuracy: 0.8229\n",
      "Epoch 00018: val_loss did not improve from 0.22520\n",
      "3740/3740 [==============================] - 92s 25ms/step - loss: 0.2276 - accuracy: 0.8229 - val_loss: 0.2258 - val_accuracy: 0.9771\n",
      "Epoch 19/50\n",
      "3738/3740 [============================>.] - ETA: 0s - loss: 0.2280 - accuracy: 0.8342\n",
      "Epoch 00019: val_loss did not improve from 0.22520\n",
      "3740/3740 [==============================] - 92s 25ms/step - loss: 0.2280 - accuracy: 0.8343 - val_loss: 0.2262 - val_accuracy: 0.9799\n",
      "Epoch 20/50\n",
      "3739/3740 [============================>.] - ETA: 0s - loss: 0.2283 - accuracy: 0.8442\n",
      "Epoch 00020: val_loss did not improve from 0.22520\n",
      "3740/3740 [==============================] - 92s 25ms/step - loss: 0.2283 - accuracy: 0.8441 - val_loss: 0.2265 - val_accuracy: 0.9342\n",
      "Epoch 21/50\n",
      "3738/3740 [============================>.] - ETA: 0s - loss: 0.2287 - accuracy: 0.8508\n",
      "Epoch 00021: val_loss did not improve from 0.22520\n",
      "3740/3740 [==============================] - 92s 25ms/step - loss: 0.2287 - accuracy: 0.8508 - val_loss: 0.2263 - val_accuracy: 0.9432\n",
      "Epoch 22/50\n",
      "3740/3740 [==============================] - ETA: 0s - loss: 0.2284 - accuracy: 0.8369\n",
      "Epoch 00022: val_loss did not improve from 0.22520\n",
      "3740/3740 [==============================] - 92s 25ms/step - loss: 0.2284 - accuracy: 0.8369 - val_loss: 0.2262 - val_accuracy: 0.9842\n",
      "Epoch 23/50\n",
      "3740/3740 [==============================] - ETA: 0s - loss: 0.2286 - accuracy: 0.8441\n",
      "Epoch 00023: val_loss did not improve from 0.22520\n",
      "3740/3740 [==============================] - 92s 24ms/step - loss: 0.2286 - accuracy: 0.8441 - val_loss: 0.2280 - val_accuracy: 0.9738\n",
      "Epoch 24/50\n",
      "3739/3740 [============================>.] - ETA: 0s - loss: 0.2295 - accuracy: 0.8458\n",
      "Epoch 00024: val_loss did not improve from 0.22520\n",
      "3740/3740 [==============================] - 92s 25ms/step - loss: 0.2295 - accuracy: 0.8458 - val_loss: 0.2272 - val_accuracy: 0.9099\n",
      "Epoch 25/50\n",
      "3740/3740 [==============================] - ETA: 0s - loss: 0.2296 - accuracy: 0.8328\n",
      "Epoch 00025: val_loss did not improve from 0.22520\n",
      "3740/3740 [==============================] - 90s 24ms/step - loss: 0.2296 - accuracy: 0.8328 - val_loss: 0.2271 - val_accuracy: 0.9735\n",
      "Epoch 26/50\n",
      "3738/3740 [============================>.] - ETA: 0s - loss: 0.2290 - accuracy: 0.8441\n",
      "Epoch 00026: val_loss did not improve from 0.22520\n",
      "3740/3740 [==============================] - 90s 24ms/step - loss: 0.2290 - accuracy: 0.8441 - val_loss: 0.2262 - val_accuracy: 0.9590\n",
      "Epoch 27/50\n",
      "3739/3740 [============================>.] - ETA: 0s - loss: 0.2296 - accuracy: 0.8691\n",
      "Epoch 00027: val_loss did not improve from 0.22520\n",
      "3740/3740 [==============================] - 90s 24ms/step - loss: 0.2297 - accuracy: 0.8691 - val_loss: 0.2274 - val_accuracy: 0.9813\n",
      "Epoch 28/50\n",
      "3740/3740 [==============================] - ETA: 0s - loss: 0.2306 - accuracy: 0.9063\n",
      "Epoch 00028: val_loss did not improve from 0.22520\n",
      "3740/3740 [==============================] - 91s 24ms/step - loss: 0.2306 - accuracy: 0.9063 - val_loss: 0.2285 - val_accuracy: 0.9899\n",
      "Epoch 29/50\n",
      "3739/3740 [============================>.] - ETA: 0s - loss: 0.2296 - accuracy: 0.8832\n",
      "Epoch 00029: val_loss did not improve from 0.22520\n",
      "3740/3740 [==============================] - 90s 24ms/step - loss: 0.2296 - accuracy: 0.8832 - val_loss: 0.2277 - val_accuracy: 0.9766\n",
      "Epoch 30/50\n",
      "3739/3740 [============================>.] - ETA: 0s - loss: 0.2296 - accuracy: 0.8670\n",
      "Epoch 00030: val_loss did not improve from 0.22520\n",
      "3740/3740 [==============================] - 89s 24ms/step - loss: 0.2296 - accuracy: 0.8670 - val_loss: 0.2279 - val_accuracy: 0.9918\n",
      "Epoch 31/50\n",
      "3739/3740 [============================>.] - ETA: 0s - loss: 0.2302 - accuracy: 0.8699\n",
      "Epoch 00031: val_loss did not improve from 0.22520\n",
      "3740/3740 [==============================] - 92s 25ms/step - loss: 0.2302 - accuracy: 0.8700 - val_loss: 0.2275 - val_accuracy: 0.9818\n",
      "Epoch 32/50\n",
      "3738/3740 [============================>.] - ETA: 0s - loss: 0.2300 - accuracy: 0.8814\n",
      "Epoch 00032: val_loss did not improve from 0.22520\n",
      "3740/3740 [==============================] - 91s 24ms/step - loss: 0.2300 - accuracy: 0.8814 - val_loss: 0.2279 - val_accuracy: 0.9918\n",
      "Epoch 33/50\n",
      "3739/3740 [============================>.] - ETA: 0s - loss: 0.2303 - accuracy: 0.8742\n",
      "Epoch 00033: val_loss did not improve from 0.22520\n",
      "3740/3740 [==============================] - 91s 24ms/step - loss: 0.2303 - accuracy: 0.8742 - val_loss: 0.2277 - val_accuracy: 0.9897\n",
      "Epoch 34/50\n",
      "3740/3740 [==============================] - ETA: 0s - loss: 0.2302 - accuracy: 0.8757\n",
      "Epoch 00034: val_loss did not improve from 0.22520\n",
      "3740/3740 [==============================] - 91s 24ms/step - loss: 0.2302 - accuracy: 0.8757 - val_loss: 0.2283 - val_accuracy: 0.9651\n",
      "Epoch 35/50\n",
      "3738/3740 [============================>.] - ETA: 0s - loss: 0.2302 - accuracy: 0.8661\n",
      "Epoch 00035: val_loss did not improve from 0.22520\n",
      "3740/3740 [==============================] - 91s 24ms/step - loss: 0.2302 - accuracy: 0.8662 - val_loss: 0.2288 - val_accuracy: 0.9903\n",
      "Epoch 36/50\n",
      "3739/3740 [============================>.] - ETA: 0s - loss: 0.2301 - accuracy: 0.8711\n",
      "Epoch 00036: val_loss did not improve from 0.22520\n",
      "3740/3740 [==============================] - 91s 24ms/step - loss: 0.2301 - accuracy: 0.8711 - val_loss: 0.2297 - val_accuracy: 0.8927\n",
      "Epoch 37/50\n",
      "3740/3740 [==============================] - ETA: 0s - loss: 0.2299 - accuracy: 0.8615\n",
      "Epoch 00037: val_loss did not improve from 0.22520\n",
      "3740/3740 [==============================] - 91s 24ms/step - loss: 0.2299 - accuracy: 0.8615 - val_loss: 0.2281 - val_accuracy: 0.9657\n",
      "Epoch 38/50\n",
      "3740/3740 [==============================] - ETA: 0s - loss: 0.2294 - accuracy: 0.8426\n",
      "Epoch 00038: val_loss did not improve from 0.22520\n",
      "3740/3740 [==============================] - 90s 24ms/step - loss: 0.2294 - accuracy: 0.8426 - val_loss: 0.2285 - val_accuracy: 0.9758\n",
      "Epoch 39/50\n",
      "3739/3740 [============================>.] - ETA: 0s - loss: 0.2296 - accuracy: 0.8190\n",
      "Epoch 00039: val_loss did not improve from 0.22520\n",
      "3740/3740 [==============================] - 88s 24ms/step - loss: 0.2296 - accuracy: 0.8190 - val_loss: 0.2276 - val_accuracy: 0.9915\n",
      "Epoch 40/50\n",
      "3738/3740 [============================>.] - ETA: 0s - loss: 0.2294 - accuracy: 0.8427\n",
      "Epoch 00040: val_loss did not improve from 0.22520\n",
      "3740/3740 [==============================] - 90s 24ms/step - loss: 0.2295 - accuracy: 0.8427 - val_loss: 0.2278 - val_accuracy: 0.9849\n",
      "Epoch 41/50\n",
      "3740/3740 [==============================] - ETA: 0s - loss: 0.2297 - accuracy: 0.8569\n",
      "Epoch 00041: val_loss did not improve from 0.22520\n",
      "3740/3740 [==============================] - 90s 24ms/step - loss: 0.2297 - accuracy: 0.8569 - val_loss: 0.2281 - val_accuracy: 0.7082\n",
      "Epoch 42/50\n",
      "3740/3740 [==============================] - ETA: 0s - loss: 0.2299 - accuracy: 0.8570\n",
      "Epoch 00042: val_loss did not improve from 0.22520\n",
      "3740/3740 [==============================] - 89s 24ms/step - loss: 0.2299 - accuracy: 0.8570 - val_loss: 0.2276 - val_accuracy: 0.9148\n",
      "Epoch 43/50\n",
      "3740/3740 [==============================] - ETA: 0s - loss: 0.2297 - accuracy: 0.8484\n",
      "Epoch 00043: val_loss did not improve from 0.22520\n",
      "3740/3740 [==============================] - 87s 23ms/step - loss: 0.2297 - accuracy: 0.8484 - val_loss: 0.2275 - val_accuracy: 0.9030\n",
      "Epoch 44/50\n",
      "3740/3740 [==============================] - ETA: 0s - loss: 0.2304 - accuracy: 0.8367\n",
      "Epoch 00044: val_loss did not improve from 0.22520\n",
      "3740/3740 [==============================] - 88s 24ms/step - loss: 0.2304 - accuracy: 0.8367 - val_loss: 0.2282 - val_accuracy: 0.9858\n",
      "Epoch 45/50\n",
      "3740/3740 [==============================] - ETA: 0s - loss: 0.2302 - accuracy: 0.8638\n",
      "Epoch 00045: val_loss did not improve from 0.22520\n",
      "3740/3740 [==============================] - 90s 24ms/step - loss: 0.2302 - accuracy: 0.8638 - val_loss: 0.2284 - val_accuracy: 0.9882\n",
      "Epoch 46/50\n",
      "3739/3740 [============================>.] - ETA: 0s - loss: 0.2299 - accuracy: 0.8495\n",
      "Epoch 00046: val_loss did not improve from 0.22520\n",
      "3740/3740 [==============================] - 86s 23ms/step - loss: 0.2298 - accuracy: 0.8495 - val_loss: 0.2282 - val_accuracy: 0.9794\n",
      "Epoch 47/50\n",
      "3739/3740 [============================>.] - ETA: 0s - loss: 0.2299 - accuracy: 0.8503\n",
      "Epoch 00047: val_loss did not improve from 0.22520\n",
      "3740/3740 [==============================] - 86s 23ms/step - loss: 0.2299 - accuracy: 0.8503 - val_loss: 0.2279 - val_accuracy: 0.9632\n",
      "Epoch 48/50\n",
      "3738/3740 [============================>.] - ETA: 0s - loss: 0.2304 - accuracy: 0.8321\n",
      "Epoch 00048: val_loss did not improve from 0.22520\n",
      "3740/3740 [==============================] - 87s 23ms/step - loss: 0.2304 - accuracy: 0.8322 - val_loss: 0.2282 - val_accuracy: 0.9946\n",
      "Epoch 49/50\n",
      "3739/3740 [============================>.] - ETA: 0s - loss: 0.2303 - accuracy: 0.8780\n",
      "Epoch 00049: val_loss did not improve from 0.22520\n",
      "3740/3740 [==============================] - 87s 23ms/step - loss: 0.2303 - accuracy: 0.8779 - val_loss: 0.2278 - val_accuracy: 0.9921\n",
      "Epoch 50/50\n",
      "3739/3740 [============================>.] - ETA: 0s - loss: 0.2302 - accuracy: 0.8642\n",
      "Epoch 00050: val_loss did not improve from 0.22520\n",
      "3740/3740 [==============================] - 86s 23ms/step - loss: 0.2302 - accuracy: 0.8642 - val_loss: 0.2280 - val_accuracy: 0.8494\n"
     ]
    }
   ],
   "source": [
    "# Saving the best model weights (with the least validation loss)\n",
    "checkpointer = ModelCheckpoint(filepath='/content/drive/My Drive/NLP_Project/rnn.h5', verbose=1, save_best_only=True)\n",
    "# Fitting the data\n",
    "m = model.fit(padded_train, y_train, batch_size = 32,callbacks = [checkpointer],epochs=50, validation_data=(padded_val,y_val))"
   ]
  },
  {
   "cell_type": "code",
   "execution_count": 33,
   "metadata": {
    "colab": {
     "base_uri": "https://localhost:8080/"
    },
    "id": "e03QAJVB9JPd",
    "outputId": "69d9f858-8ab8-44ea-f6e9-d01b5f3675e6"
   },
   "outputs": [
    {
     "name": "stdout",
     "output_type": "stream",
     "text": [
      "WARNING:tensorflow:Model was constructed with shape (None, 20) for input Tensor(\"embedding_1_input_1:0\", shape=(None, 20), dtype=float32), but it was called on an input with incompatible shape (None, 40).\n",
      "3740/3740 [==============================] - 48s 13ms/step - loss: 0.2334 - accuracy: 0.9643\n",
      "Training accuracy:  0.9643462896347046\n",
      "1247/1247 [==============================] - 17s 13ms/step - loss: 0.2329 - accuracy: 0.9648\n",
      "Validation accuracy:  0.9648300409317017\n"
     ]
    }
   ],
   "source": [
    "# Loading the saved model\n",
    "reconstructed_model = load_model('/content/drive/My Drive/NLP_Project/rnn.h5')\n",
    "# Calucuating the accuracy and the loss of the best model on the training data\n",
    "loss, accuracy = reconstructed_model.evaluate(padded_train, y_train, verbose=1)\n",
    "print(\"Training accuracy: \", accuracy)\n",
    "# Calucuating the accuracy and the loss of the best model on the validation data\n",
    "loss, accuracy = reconstructed_model.evaluate(padded_val, y_val, verbose=1)\n",
    "print('Validation accuracy: ' , accuracy)"
   ]
  },
  {
   "cell_type": "code",
   "execution_count": 34,
   "metadata": {
    "colab": {
     "base_uri": "https://localhost:8080/"
    },
    "id": "JMFGm6Za-FR4",
    "outputId": "265d40a8-b332-4a04-c261-72e33ce9bbf4"
   },
   "outputs": [
    {
     "name": "stdout",
     "output_type": "stream",
     "text": [
      "WARNING:tensorflow:Model was constructed with shape (None, 20) for input Tensor(\"embedding_1_input_2:0\", shape=(None, 20), dtype=float32), but it was called on an input with incompatible shape (None, 40).\n",
      "2000/2000 [==============================] - 28s 14ms/step - loss: 0.2344 - accuracy: 0.9705\n",
      "Test accuracy:  0.9704898595809937\n"
     ]
    }
   ],
   "source": [
    "reconstructed_model = load_model('/content/drive/My Drive/NLP_Project/rnn.h5')\n",
    "# Calucuating the accuracy and the loss of the best model on the test data\n",
    "loss, accuracy = reconstructed_model.evaluate(padded_test, y_test, verbose=1)\n",
    "print(\"Test accuracy: \", accuracy) "
   ]
  },
  {
   "cell_type": "markdown",
   "metadata": {
    "id": "BkZ8Nco2sI5A"
   },
   "source": [
    "The Vanilla RNN has solved the problem of underfitting, since it is much more complex than the Naive Bayes model. The model has a great accuracy due to the huge training corpus and right hyperparameter tuning"
   ]
  },
  {
   "cell_type": "markdown",
   "metadata": {
    "id": "20MBuzY-4OYy"
   },
   "source": [
    "The ideal parameters for the Vanilla RNN model are : \n",
    "- Number number of hidden units = 300\n",
    "- optimizer = adam\n",
    "- Sequence length = 40\n",
    "- Number of epochs = 50\n",
    "- Recurrent_dropout=0.3\n",
    "- Dropout=0.3"
   ]
  },
  {
   "cell_type": "markdown",
   "metadata": {
    "id": "R51AFul8sYdZ"
   },
   "source": [
    "LSTM"
   ]
  },
  {
   "cell_type": "code",
   "execution_count": 84,
   "metadata": {
    "colab": {
     "base_uri": "https://localhost:8080/"
    },
    "id": "3i9cvvgZ5F48",
    "outputId": "01449d26-85a1-464f-baf2-c3733f40852b"
   },
   "outputs": [
    {
     "name": "stdout",
     "output_type": "stream",
     "text": [
      "WARNING:tensorflow:Layer lstm_1 will not use cuDNN kernel since it doesn't meet the cuDNN kernel criteria. It will use generic GPU kernel as fallback when running on GPU\n",
      "Model: \"sequential_3\"\n",
      "_________________________________________________________________\n",
      "Layer (type)                 Output Shape              Param #   \n",
      "=================================================================\n",
      "embedding_3 (Embedding)      (None, 20, 300)           47855400  \n",
      "_________________________________________________________________\n",
      "lstm_1 (LSTM)                (None, 64)                93440     \n",
      "_________________________________________________________________\n",
      "dense_3 (Dense)              (None, 6)                 390       \n",
      "=================================================================\n",
      "Total params: 47,949,230\n",
      "Trainable params: 93,830\n",
      "Non-trainable params: 47,855,400\n",
      "_________________________________________________________________\n"
     ]
    }
   ],
   "source": [
    "model_lstm = keras.Sequential()\n",
    "# Adding an embedding layer\n",
    "model_lstm.add(layers.Embedding(input_dim=vocabulary_size, output_dim= 300, weights=[embedding_matrix], input_length=20, trainable=False))\n",
    "model_lstm.add(layers.LSTM(64,recurrent_dropout=0.3,dropout=0.3))\n",
    "# Adding a dense layer\n",
    "model_lstm.add(Dense(6,activation = 'softmax'))\n",
    "# Compiling the model\n",
    "model_lstm.compile(optimizer='adam', loss='binary_crossentropy', metrics=['accuracy'])\n",
    "# Summarizing the model\n",
    "model_lstm.summary()"
   ]
  },
  {
   "cell_type": "code",
   "execution_count": 85,
   "metadata": {
    "colab": {
     "base_uri": "https://localhost:8080/"
    },
    "id": "aq08tmeT7fu-",
    "outputId": "f5ef3dcf-7d41-47e0-cc79-ea200d33ddcc"
   },
   "outputs": [
    {
     "name": "stdout",
     "output_type": "stream",
     "text": [
      "Epoch 1/50\n",
      "3740/3740 [==============================] - ETA: 0s - loss: 0.2246 - accuracy: 0.7861\n",
      "Epoch 00001: val_loss improved from inf to 0.22203, saving model to /content/drive/My Drive/NLP_Project/lstm.h5\n",
      "3740/3740 [==============================] - 286s 76ms/step - loss: 0.2246 - accuracy: 0.7861 - val_loss: 0.2220 - val_accuracy: 0.8061\n",
      "Epoch 2/50\n",
      "3740/3740 [==============================] - ETA: 0s - loss: 0.2218 - accuracy: 0.7830\n",
      "Epoch 00002: val_loss improved from 0.22203 to 0.22134, saving model to /content/drive/My Drive/NLP_Project/lstm.h5\n",
      "3740/3740 [==============================] - 293s 78ms/step - loss: 0.2218 - accuracy: 0.7830 - val_loss: 0.2213 - val_accuracy: 0.8659\n",
      "Epoch 3/50\n",
      "3740/3740 [==============================] - ETA: 0s - loss: 0.2208 - accuracy: 0.7562\n",
      "Epoch 00003: val_loss improved from 0.22134 to 0.22086, saving model to /content/drive/My Drive/NLP_Project/lstm.h5\n",
      "3740/3740 [==============================] - 294s 79ms/step - loss: 0.2208 - accuracy: 0.7562 - val_loss: 0.2209 - val_accuracy: 0.8117\n",
      "Epoch 4/50\n",
      "3740/3740 [==============================] - ETA: 0s - loss: 0.2201 - accuracy: 0.7366\n",
      "Epoch 00004: val_loss did not improve from 0.22086\n",
      "3740/3740 [==============================] - 287s 77ms/step - loss: 0.2201 - accuracy: 0.7366 - val_loss: 0.2210 - val_accuracy: 0.7123\n",
      "Epoch 5/50\n",
      "3740/3740 [==============================] - ETA: 0s - loss: 0.2194 - accuracy: 0.7058\n",
      "Epoch 00005: val_loss did not improve from 0.22086\n",
      "3740/3740 [==============================] - 286s 77ms/step - loss: 0.2194 - accuracy: 0.7058 - val_loss: 0.2213 - val_accuracy: 0.6527\n",
      "Epoch 6/50\n",
      "3740/3740 [==============================] - ETA: 0s - loss: 0.2189 - accuracy: 0.6852\n",
      "Epoch 00006: val_loss did not improve from 0.22086\n",
      "3740/3740 [==============================] - 280s 75ms/step - loss: 0.2189 - accuracy: 0.6852 - val_loss: 0.2210 - val_accuracy: 0.6066\n",
      "Epoch 7/50\n",
      "3740/3740 [==============================] - ETA: 0s - loss: 0.2185 - accuracy: 0.6695\n",
      "Epoch 00007: val_loss did not improve from 0.22086\n",
      "3740/3740 [==============================] - 284s 76ms/step - loss: 0.2185 - accuracy: 0.6695 - val_loss: 0.2210 - val_accuracy: 0.6635\n",
      "Epoch 8/50\n",
      "3740/3740 [==============================] - ETA: 0s - loss: 0.2181 - accuracy: 0.6623\n",
      "Epoch 00008: val_loss did not improve from 0.22086\n",
      "3740/3740 [==============================] - 283s 76ms/step - loss: 0.2181 - accuracy: 0.6623 - val_loss: 0.2212 - val_accuracy: 0.7529\n",
      "Epoch 9/50\n",
      "3740/3740 [==============================] - ETA: 0s - loss: 0.2179 - accuracy: 0.6364\n",
      "Epoch 00009: val_loss did not improve from 0.22086\n",
      "3740/3740 [==============================] - 276s 74ms/step - loss: 0.2179 - accuracy: 0.6364 - val_loss: 0.2212 - val_accuracy: 0.5117\n",
      "Epoch 10/50\n",
      "3740/3740 [==============================] - ETA: 0s - loss: 0.2176 - accuracy: 0.6359\n",
      "Epoch 00010: val_loss did not improve from 0.22086\n",
      "3740/3740 [==============================] - 271s 72ms/step - loss: 0.2176 - accuracy: 0.6359 - val_loss: 0.2211 - val_accuracy: 0.7726\n",
      "Epoch 11/50\n",
      "3740/3740 [==============================] - ETA: 0s - loss: 0.2174 - accuracy: 0.6180\n",
      "Epoch 00011: val_loss did not improve from 0.22086\n",
      "3740/3740 [==============================] - 276s 74ms/step - loss: 0.2174 - accuracy: 0.6180 - val_loss: 0.2214 - val_accuracy: 0.5130\n",
      "Epoch 12/50\n",
      "3740/3740 [==============================] - ETA: 0s - loss: 0.2172 - accuracy: 0.6096\n",
      "Epoch 00012: val_loss did not improve from 0.22086\n",
      "3740/3740 [==============================] - 268s 72ms/step - loss: 0.2172 - accuracy: 0.6096 - val_loss: 0.2217 - val_accuracy: 0.7141\n",
      "Epoch 13/50\n",
      "3740/3740 [==============================] - ETA: 0s - loss: 0.2170 - accuracy: 0.6227\n",
      "Epoch 00013: val_loss did not improve from 0.22086\n",
      "3740/3740 [==============================] - 268s 72ms/step - loss: 0.2170 - accuracy: 0.6227 - val_loss: 0.2215 - val_accuracy: 0.6744\n",
      "Epoch 14/50\n",
      "3740/3740 [==============================] - ETA: 0s - loss: 0.2168 - accuracy: 0.6150\n",
      "Epoch 00014: val_loss did not improve from 0.22086\n",
      "3740/3740 [==============================] - 268s 72ms/step - loss: 0.2168 - accuracy: 0.6150 - val_loss: 0.2217 - val_accuracy: 0.7032\n",
      "Epoch 15/50\n",
      "3740/3740 [==============================] - ETA: 0s - loss: 0.2166 - accuracy: 0.5895\n",
      "Epoch 00015: val_loss did not improve from 0.22086\n",
      "3740/3740 [==============================] - 271s 72ms/step - loss: 0.2166 - accuracy: 0.5895 - val_loss: 0.2218 - val_accuracy: 0.6366\n",
      "Epoch 16/50\n",
      "3740/3740 [==============================] - ETA: 0s - loss: 0.2165 - accuracy: 0.6122\n",
      "Epoch 00016: val_loss did not improve from 0.22086\n",
      "3740/3740 [==============================] - 268s 72ms/step - loss: 0.2165 - accuracy: 0.6122 - val_loss: 0.2218 - val_accuracy: 0.5351\n",
      "Epoch 17/50\n",
      "3740/3740 [==============================] - ETA: 0s - loss: 0.2164 - accuracy: 0.6043\n",
      "Epoch 00017: val_loss did not improve from 0.22086\n",
      "3740/3740 [==============================] - 267s 72ms/step - loss: 0.2164 - accuracy: 0.6043 - val_loss: 0.2223 - val_accuracy: 0.5333\n",
      "Epoch 18/50\n",
      "3740/3740 [==============================] - ETA: 0s - loss: 0.2162 - accuracy: 0.6009\n",
      "Epoch 00018: val_loss did not improve from 0.22086\n",
      "3740/3740 [==============================] - 268s 72ms/step - loss: 0.2162 - accuracy: 0.6009 - val_loss: 0.2224 - val_accuracy: 0.5243\n",
      "Epoch 19/50\n",
      "3740/3740 [==============================] - ETA: 0s - loss: 0.2162 - accuracy: 0.6013\n",
      "Epoch 00019: val_loss did not improve from 0.22086\n",
      "3740/3740 [==============================] - 272s 73ms/step - loss: 0.2162 - accuracy: 0.6013 - val_loss: 0.2222 - val_accuracy: 0.6222\n",
      "Epoch 20/50\n",
      "3740/3740 [==============================] - ETA: 0s - loss: 0.2161 - accuracy: 0.5938\n",
      "Epoch 00020: val_loss did not improve from 0.22086\n",
      "3740/3740 [==============================] - 275s 73ms/step - loss: 0.2161 - accuracy: 0.5938 - val_loss: 0.2224 - val_accuracy: 0.5222\n",
      "Epoch 21/50\n",
      "3740/3740 [==============================] - ETA: 0s - loss: 0.2160 - accuracy: 0.6038\n",
      "Epoch 00021: val_loss did not improve from 0.22086\n",
      "3740/3740 [==============================] - 285s 76ms/step - loss: 0.2160 - accuracy: 0.6038 - val_loss: 0.2222 - val_accuracy: 0.6749\n",
      "Epoch 22/50\n",
      "3740/3740 [==============================] - ETA: 0s - loss: 0.2158 - accuracy: 0.5765\n",
      "Epoch 00022: val_loss did not improve from 0.22086\n",
      "3740/3740 [==============================] - 290s 78ms/step - loss: 0.2158 - accuracy: 0.5765 - val_loss: 0.2226 - val_accuracy: 0.4747\n",
      "Epoch 23/50\n",
      "3740/3740 [==============================] - ETA: 0s - loss: 0.2159 - accuracy: 0.5882\n",
      "Epoch 00023: val_loss did not improve from 0.22086\n",
      "3740/3740 [==============================] - 286s 77ms/step - loss: 0.2159 - accuracy: 0.5882 - val_loss: 0.2223 - val_accuracy: 0.7326\n",
      "Epoch 24/50\n",
      "3740/3740 [==============================] - ETA: 0s - loss: 0.2158 - accuracy: 0.5961\n",
      "Epoch 00024: val_loss did not improve from 0.22086\n",
      "3740/3740 [==============================] - 289s 77ms/step - loss: 0.2158 - accuracy: 0.5961 - val_loss: 0.2222 - val_accuracy: 0.5394\n",
      "Epoch 25/50\n",
      "3740/3740 [==============================] - ETA: 0s - loss: 0.2158 - accuracy: 0.5894\n",
      "Epoch 00025: val_loss did not improve from 0.22086\n",
      "3740/3740 [==============================] - 289s 77ms/step - loss: 0.2158 - accuracy: 0.5894 - val_loss: 0.2225 - val_accuracy: 0.5811\n",
      "Epoch 26/50\n",
      "3740/3740 [==============================] - ETA: 0s - loss: 0.2156 - accuracy: 0.5855\n",
      "Epoch 00026: val_loss did not improve from 0.22086\n",
      "3740/3740 [==============================] - 288s 77ms/step - loss: 0.2156 - accuracy: 0.5855 - val_loss: 0.2228 - val_accuracy: 0.5216\n",
      "Epoch 27/50\n",
      "3740/3740 [==============================] - ETA: 0s - loss: 0.2157 - accuracy: 0.5959\n",
      "Epoch 00027: val_loss did not improve from 0.22086\n",
      "3740/3740 [==============================] - 281s 75ms/step - loss: 0.2157 - accuracy: 0.5959 - val_loss: 0.2227 - val_accuracy: 0.6051\n",
      "Epoch 28/50\n",
      "3740/3740 [==============================] - ETA: 0s - loss: 0.2156 - accuracy: 0.5890\n",
      "Epoch 00028: val_loss did not improve from 0.22086\n",
      "3740/3740 [==============================] - 284s 76ms/step - loss: 0.2156 - accuracy: 0.5890 - val_loss: 0.2228 - val_accuracy: 0.4633\n",
      "Epoch 29/50\n",
      "3740/3740 [==============================] - ETA: 0s - loss: 0.2155 - accuracy: 0.5957\n",
      "Epoch 00029: val_loss did not improve from 0.22086\n",
      "3740/3740 [==============================] - 282s 75ms/step - loss: 0.2155 - accuracy: 0.5957 - val_loss: 0.2229 - val_accuracy: 0.5625\n",
      "Epoch 30/50\n",
      "3740/3740 [==============================] - ETA: 0s - loss: 0.2155 - accuracy: 0.5988\n",
      "Epoch 00030: val_loss did not improve from 0.22086\n",
      "3740/3740 [==============================] - 276s 74ms/step - loss: 0.2155 - accuracy: 0.5988 - val_loss: 0.2230 - val_accuracy: 0.5065\n",
      "Epoch 31/50\n",
      "3740/3740 [==============================] - ETA: 0s - loss: 0.2155 - accuracy: 0.5759\n",
      "Epoch 00031: val_loss did not improve from 0.22086\n",
      "3740/3740 [==============================] - 282s 75ms/step - loss: 0.2155 - accuracy: 0.5759 - val_loss: 0.2226 - val_accuracy: 0.7020\n",
      "Epoch 32/50\n",
      "3740/3740 [==============================] - ETA: 0s - loss: 0.2154 - accuracy: 0.6006\n",
      "Epoch 00032: val_loss did not improve from 0.22086\n",
      "3740/3740 [==============================] - 277s 74ms/step - loss: 0.2154 - accuracy: 0.6006 - val_loss: 0.2224 - val_accuracy: 0.7499\n",
      "Epoch 33/50\n",
      "3740/3740 [==============================] - ETA: 0s - loss: 0.2153 - accuracy: 0.5968\n",
      "Epoch 00033: val_loss did not improve from 0.22086\n",
      "3740/3740 [==============================] - 279s 75ms/step - loss: 0.2153 - accuracy: 0.5968 - val_loss: 0.2227 - val_accuracy: 0.6708\n",
      "Epoch 34/50\n",
      "3740/3740 [==============================] - ETA: 0s - loss: 0.2153 - accuracy: 0.5832\n",
      "Epoch 00034: val_loss did not improve from 0.22086\n",
      "3740/3740 [==============================] - 278s 74ms/step - loss: 0.2153 - accuracy: 0.5832 - val_loss: 0.2226 - val_accuracy: 0.7119\n",
      "Epoch 35/50\n",
      "3740/3740 [==============================] - ETA: 0s - loss: 0.2153 - accuracy: 0.5876\n",
      "Epoch 00035: val_loss did not improve from 0.22086\n",
      "3740/3740 [==============================] - 275s 73ms/step - loss: 0.2153 - accuracy: 0.5876 - val_loss: 0.2229 - val_accuracy: 0.7523\n",
      "Epoch 36/50\n",
      "3740/3740 [==============================] - ETA: 0s - loss: 0.2152 - accuracy: 0.5839\n",
      "Epoch 00036: val_loss did not improve from 0.22086\n",
      "3740/3740 [==============================] - 277s 74ms/step - loss: 0.2152 - accuracy: 0.5839 - val_loss: 0.2229 - val_accuracy: 0.7590\n",
      "Epoch 37/50\n",
      "3740/3740 [==============================] - ETA: 0s - loss: 0.2153 - accuracy: 0.5852\n",
      "Epoch 00037: val_loss did not improve from 0.22086\n",
      "3740/3740 [==============================] - 280s 75ms/step - loss: 0.2153 - accuracy: 0.5852 - val_loss: 0.2232 - val_accuracy: 0.4890\n",
      "Epoch 38/50\n",
      "3740/3740 [==============================] - ETA: 0s - loss: 0.2152 - accuracy: 0.5765\n",
      "Epoch 00038: val_loss did not improve from 0.22086\n",
      "3740/3740 [==============================] - 281s 75ms/step - loss: 0.2152 - accuracy: 0.5765 - val_loss: 0.2230 - val_accuracy: 0.6075\n",
      "Epoch 39/50\n",
      "3740/3740 [==============================] - ETA: 0s - loss: 0.2153 - accuracy: 0.5852\n",
      "Epoch 00039: val_loss did not improve from 0.22086\n",
      "3740/3740 [==============================] - 278s 74ms/step - loss: 0.2153 - accuracy: 0.5852 - val_loss: 0.2229 - val_accuracy: 0.3672\n",
      "Epoch 40/50\n",
      "3740/3740 [==============================] - ETA: 0s - loss: 0.2153 - accuracy: 0.5735\n",
      "Epoch 00040: val_loss did not improve from 0.22086\n",
      "3740/3740 [==============================] - 274s 73ms/step - loss: 0.2153 - accuracy: 0.5735 - val_loss: 0.2230 - val_accuracy: 0.6805\n",
      "Epoch 41/50\n",
      "3740/3740 [==============================] - ETA: 0s - loss: 0.2152 - accuracy: 0.5932\n",
      "Epoch 00041: val_loss did not improve from 0.22086\n",
      "3740/3740 [==============================] - 273s 73ms/step - loss: 0.2152 - accuracy: 0.5932 - val_loss: 0.2230 - val_accuracy: 0.6642\n",
      "Epoch 42/50\n",
      "3740/3740 [==============================] - ETA: 0s - loss: 0.2152 - accuracy: 0.5833\n",
      "Epoch 00042: val_loss did not improve from 0.22086\n",
      "3740/3740 [==============================] - 274s 73ms/step - loss: 0.2152 - accuracy: 0.5833 - val_loss: 0.2229 - val_accuracy: 0.4809\n",
      "Epoch 43/50\n",
      "3740/3740 [==============================] - ETA: 0s - loss: 0.2150 - accuracy: 0.5955\n",
      "Epoch 00043: val_loss did not improve from 0.22086\n",
      "3740/3740 [==============================] - 274s 73ms/step - loss: 0.2150 - accuracy: 0.5955 - val_loss: 0.2232 - val_accuracy: 0.4342\n",
      "Epoch 44/50\n",
      "3740/3740 [==============================] - ETA: 0s - loss: 0.2151 - accuracy: 0.5928\n",
      "Epoch 00044: val_loss did not improve from 0.22086\n",
      "3740/3740 [==============================] - 273s 73ms/step - loss: 0.2151 - accuracy: 0.5928 - val_loss: 0.2232 - val_accuracy: 0.3757\n",
      "Epoch 45/50\n",
      "3740/3740 [==============================] - ETA: 0s - loss: 0.2151 - accuracy: 0.5868\n",
      "Epoch 00045: val_loss did not improve from 0.22086\n",
      "3740/3740 [==============================] - 270s 72ms/step - loss: 0.2151 - accuracy: 0.5868 - val_loss: 0.2230 - val_accuracy: 0.4971\n",
      "Epoch 46/50\n",
      "3740/3740 [==============================] - ETA: 0s - loss: 0.2151 - accuracy: 0.5853\n",
      "Epoch 00046: val_loss did not improve from 0.22086\n",
      "3740/3740 [==============================] - 266s 71ms/step - loss: 0.2151 - accuracy: 0.5853 - val_loss: 0.2230 - val_accuracy: 0.6149\n",
      "Epoch 47/50\n",
      "3740/3740 [==============================] - ETA: 0s - loss: 0.2151 - accuracy: 0.5831\n",
      "Epoch 00047: val_loss did not improve from 0.22086\n",
      "3740/3740 [==============================] - 267s 71ms/step - loss: 0.2151 - accuracy: 0.5831 - val_loss: 0.2227 - val_accuracy: 0.7377\n",
      "Epoch 48/50\n",
      "3740/3740 [==============================] - ETA: 0s - loss: 0.2151 - accuracy: 0.5967\n",
      "Epoch 00048: val_loss did not improve from 0.22086\n",
      "3740/3740 [==============================] - 267s 71ms/step - loss: 0.2151 - accuracy: 0.5967 - val_loss: 0.2227 - val_accuracy: 0.6745\n",
      "Epoch 49/50\n",
      "3740/3740 [==============================] - ETA: 0s - loss: 0.2150 - accuracy: 0.5897\n",
      "Epoch 00049: val_loss did not improve from 0.22086\n",
      "3740/3740 [==============================] - 269s 72ms/step - loss: 0.2150 - accuracy: 0.5897 - val_loss: 0.2230 - val_accuracy: 0.6676\n",
      "Epoch 50/50\n",
      "3740/3740 [==============================] - ETA: 0s - loss: 0.2150 - accuracy: 0.5987\n",
      "Epoch 00050: val_loss did not improve from 0.22086\n",
      "3740/3740 [==============================] - 270s 72ms/step - loss: 0.2150 - accuracy: 0.5987 - val_loss: 0.2230 - val_accuracy: 0.7784\n"
     ]
    }
   ],
   "source": [
    "# Training the model\n",
    "# Loading the saved model with the least validation loss\n",
    "checkpointer = ModelCheckpoint(filepath='/content/drive/My Drive/NLP_Project/lstm.h5', verbose=1, save_best_only=True)\n",
    "# Fitting the data\n",
    "m = model_lstm.fit(padded_train, y_train, batch_size = 32,callbacks = [checkpointer],epochs=50, validation_data=(padded_val,y_val))"
   ]
  },
  {
   "cell_type": "code",
   "execution_count": 28,
   "metadata": {
    "colab": {
     "base_uri": "https://localhost:8080/"
    },
    "id": "l8HVRmOK7jGc",
    "outputId": "4c21d554-4cd0-40a4-f3cd-e6f3ad724559"
   },
   "outputs": [
    {
     "name": "stdout",
     "output_type": "stream",
     "text": [
      "WARNING:tensorflow:Layer lstm_1 will not use cuDNN kernel since it doesn't meet the cuDNN kernel criteria. It will use generic GPU kernel as fallback when running on GPU\n",
      "3740/3740 [==============================] - 28s 7ms/step - loss: 0.2366 - accuracy: 0.9941\n",
      "Training accuracy:  0.9940925240516663\n",
      "1247/1247 [==============================] - 9s 7ms/step - loss: 0.2375 - accuracy: 0.9944\n",
      "Validation accuracy:  0.9943848252296448\n"
     ]
    }
   ],
   "source": [
    "# Loading the saved model\n",
    "final_model = load_model('/content/drive/My Drive/NLP_Project/lstm.h5')\n",
    "# Calculating the accuracy and loss of the best model on the training data\n",
    "loss, accuracy = final_model.evaluate(padded_train, y_train, verbose=1)\n",
    "print('Training accuracy: ', accuracy)\n",
    "# Calucuating the accuracy and the loss of the best model on the validation data\n",
    "loss, accuracy = final_model.evaluate(padded_val, y_val, verbose=1)\n",
    "print('Validation accuracy: ', accuracy)"
   ]
  },
  {
   "cell_type": "code",
   "execution_count": 25,
   "metadata": {
    "colab": {
     "base_uri": "https://localhost:8080/"
    },
    "id": "VM8vjU0q3WSu",
    "outputId": "3e26021a-604d-419e-82c3-955daa546b1f"
   },
   "outputs": [
    {
     "name": "stdout",
     "output_type": "stream",
     "text": [
      "WARNING:tensorflow:Layer lstm_1 will not use cuDNN kernel since it doesn't meet the cuDNN kernel criteria. It will use generic GPU kernel as fallback when running on GPU\n",
      "2000/2000 [==============================] - 14s 7ms/step - loss: 0.2386 - accuracy: 0.9976\n",
      "Test accuracy 0.9976085424423218\n"
     ]
    }
   ],
   "source": [
    "final_model = load_model('/content/drive/My Drive/NLP_Project/lstm.h5')\n",
    "# Calucuating the accuracy and the loss of the best model on the test data\n",
    "loss, accuracy = final_model.evaluate(padded_test, y_test, verbose=1)\n",
    "print('Test accuracy', accuracy)"
   ]
  },
  {
   "cell_type": "markdown",
   "metadata": {
    "id": "LuoWRWflwaBn"
   },
   "source": [
    "The ideal parameters for the LSTM model are : \n",
    "- Number number of hidden units = 64\n",
    "- optimizer = adam\n",
    "- Sequence length = 20\n",
    "- Number of epochs = 50\n",
    "- Recurrent_dropout=0.3\n",
    "- Dropout=0.3\n"
   ]
  },
  {
   "cell_type": "markdown",
   "metadata": {
    "id": "ptE_wdTbK7EY"
   },
   "source": [
    "## EVALUATION\n",
    "\n",
    "BASELINE MODEL :\n",
    "- Multinomial Naïve Bayes :\n",
    "Training Accuracy =  53.9\n",
    "Validation Accuracy = 53.1\n",
    "Test Accuracy =  **51.6**\n",
    "\n",
    "- Vanilla RNN :\n",
    "Validation Accuracy = 96.48\n",
    "Test Accuracy = **97.04**\n",
    "\n",
    "- LSTM :\n",
    "Validation Accuracy =  99.43\n",
    "Test Accuracy = **99.76**\n",
    " "
   ]
  },
  {
   "cell_type": "markdown",
   "metadata": {
    "id": "8cAmW3aVwP1L"
   },
   "source": [
    "Hence, the LSTM model performs the best on the test data and has an accuracy of **0.997**"
   ]
  },
  {
   "cell_type": "markdown",
   "metadata": {
    "id": "1khewSs0LlBi"
   },
   "source": [
    "EXPERIMENTS CONDUCTED TO EVALUATE THE HYPOTHESIS : \n",
    "- Pre-processed the data using NLTK and Pandas functions\n",
    "- Used a machine learning model - Multinomial Naive Bayes classifier to classify toxicity. The model underfitted on the data yielding an accuracy of just 51.6 %\n",
    "- Trained two deep learning models - Vanilla RNN and LSTM for this NLP task and achieved an accuracy of 97.04 % and 99.76 %\n",
    "\n",
    "\n",
    "**Thus, the hypothesis that deep learning models for NLP can detect and classify toxic comments on online platforms holds true.**"
   ]
  },
  {
   "cell_type": "markdown",
   "metadata": {
    "id": "-A4B0zw-PoPb"
   },
   "source": [
    "## COMPARISON "
   ]
  },
  {
   "cell_type": "markdown",
   "metadata": {
    "id": "P-BW9z8H56qF"
   },
   "source": [
    "\n",
    "| Comparison Parameters | Georgeakopoulos et al. [3] | Khieu et al. [4] | Chu et al. [5] | Kohli et al. [6] | Chakrabarty [11] |\n",
    "| ------ | ------ | ------ | ------ | ------ | ------ |\n",
    "| Methodology | Convolutional Neural Network | LSTM | CNN with character level-embeddings | LSTM with custom embeddings | tfidf with 6 headed machine learning |\n",
    "| Mean Validation Accuracy | 91.2% | 92.7% | 94% | 97.78% | 98.08% |"
   ]
  },
  {
   "cell_type": "markdown",
   "metadata": {
    "id": "fYbWQW3VK5Ph"
   },
   "source": [
    "## CONCLUSIONS \n",
    "\n",
    "- The models used in this task have obtained very high accuracy \n",
    "- Though the accuracy is higher than most of the models built by researchers, it is not the best metric to evaluate the models since the data has a high class imbalance, the non-toxic comments being 10 times higher in number than the other classes. The possible explanation behind such a high accuracy could be that the model is predicting non-toxic for all the classes. To improve this, the following measures can be taken : \n",
    "  1. Using a weighted loss function to take this into account\n",
    "  2. Augmenting the classes with less data points\n",
    "  3. Resampling the data to resolve class imbalance\n",
    "  4. Using evaluation metrics that can take this into account like sensitivity, specificity, precision and F1 score\n",
    "  This is the future work for this task"
   ]
  },
  {
   "cell_type": "markdown",
   "metadata": {
    "id": "KTuaZ4qUvEPO"
   },
   "source": [
    "## REFERENCES\n",
    "\n",
    "1. Coversation AI Team, https://conversationai.github.io/\n",
    "2. https://www.easy-tensorflow.com/tf-tutorials/recurrent-neural-networks/vanilla-rnn-for-classification\n",
    "3. Spiros V. Georgakopoulos, Sotiris K. Tasoulis, Aristidis G. Vrahatis and Vassilis P.\n",
    "Plagianakos: ”Convolutional NeuralNetworksfor ToxicCommentClassification”,\n",
    "10th Hellenic Conference on Artificial Intelligence, 2018.\n",
    "4. Kevin Khieu and Neha Narwal: ”Detecting and Classifying Toxic Comments”,\n",
    "https://web.stanford.edu/class/cs224n/reports/6837517.pdf\n",
    "5. Theodora Chu, Kylie Jue and Max Wang: ”Comment Abuse Classification with Deep\n",
    "Learning”, https://web.stanford.edu/class/cs224n/reports/2762092.pdf\n",
    "6. ManavKohli, Emily Kuehler and John Palowitch: ”Paying attention to toxic comments online”, https://web.stanford.edu/class/cs224n/reports/6856482.pdf\n",
    "7. https://www.kaggle.com/c/jigsaw-toxic-comment-classification-challenge/data\n",
    "8. https://towardsdatascience.com/classifying-toxicity-in-online-comment-forums-end-to-end-project-57720af39d0b\n",
    "9. https://github.com/nupurbaghel/Capstone_Project_ML\n",
    "10. https://github.com/kasturijoshi06/Predicting-the-political-inclination-of-a-twitter-user/blob/master/political_inclination.ipynb\n",
    "11. https://arxiv.org/ftp/arxiv/papers/1903/1903.06765.pdf\n",
    "12. https://nlp.stanford.edu/projects/glove/"
   ]
  }
 ],
 "metadata": {
  "colab": {
   "collapsed_sections": [],
   "name": "Toxic Comment Classification.ipynb",
   "provenance": []
  },
  "kernelspec": {
   "display_name": "Python 3",
   "language": "python",
   "name": "python3"
  },
  "language_info": {
   "codemirror_mode": {
    "name": "ipython",
    "version": 3
   },
   "file_extension": ".py",
   "mimetype": "text/x-python",
   "name": "python",
   "nbconvert_exporter": "python",
   "pygments_lexer": "ipython3",
   "version": "3.7.4"
  }
 },
 "nbformat": 4,
 "nbformat_minor": 1
}
